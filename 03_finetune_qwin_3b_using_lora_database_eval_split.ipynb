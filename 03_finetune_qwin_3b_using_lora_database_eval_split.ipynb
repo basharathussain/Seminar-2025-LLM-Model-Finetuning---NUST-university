{
 "cells": [
  {
   "cell_type": "markdown",
   "metadata": {
    "id": "rpQUzplJ9FQb"
   },
   "source": [
    "# Fine tune a Base Model (5 steps)\n"
   ]
  },
  {
   "cell_type": "code",
   "execution_count": 1,
   "metadata": {
    "colab": {
     "base_uri": "https://localhost:8080/"
    },
    "executionInfo": {
     "elapsed": 19415,
     "status": "ok",
     "timestamp": 1756369010055,
     "user": {
      "displayName": "Basharat Hussain",
      "userId": "14124140969393964043"
     },
     "user_tz": -300
    },
    "id": "1mhaAp2o4vJs",
    "outputId": "5cbeb60c-4088-4c36-c721-a7855b61898d"
   },
   "outputs": [
    {
     "name": "stdout",
     "output_type": "stream",
     "text": [
      "\u001b[2K   \u001b[90m━━━━━━━━━━━━━━━━━━━━━━━━━━━━━━━━━━━━━━━━\u001b[0m \u001b[32m61.3/61.3 MB\u001b[0m \u001b[31m18.7 MB/s\u001b[0m eta \u001b[36m0:00:00\u001b[0m\n",
      "\u001b[?25h"
     ]
    }
   ],
   "source": [
    "# Install necessary libraries\n",
    "# LoRA fine-tuning requires PEFT, Transformers, Datasets, and Accelerate\n",
    "# bitsandbytes is for 4-bit quantization (QLoRA)\n",
    "!pip install -q -U transformers datasets peft accelerate bitsandbytes"
   ]
  },
  {
   "cell_type": "code",
   "execution_count": null,
   "metadata": {
    "collapsed": true,
    "id": "5ANIzDQw45mJ"
   },
   "outputs": [],
   "source": [
    "!nvidia-smi"
   ]
  },
  {
   "cell_type": "code",
   "execution_count": null,
   "metadata": {
    "id": "KkbMf8om5fgC"
   },
   "outputs": [],
   "source": [
    "\n",
    "# A small 3B model for this example.\n",
    "# We load it in 4-bit to save memory (QLoRA)\n",
    "MODEL_NAME = \"Qwen/Qwen2-1.5B-Instruct\""
   ]
  },
  {
   "cell_type": "code",
   "execution_count": null,
   "metadata": {
    "id": "gzJTK31r49jp"
   },
   "outputs": [],
   "source": [
    "from huggingface_hub import login\n",
    "# Hugging Face login\n",
    "hf_token = \"hf_iGWjRtjobCydZbVOTLOXXXXXXXX\"  # Replace with your HF token\n",
    "login(hf_token)\n"
   ]
  },
  {
   "cell_type": "code",
   "execution_count": null,
   "metadata": {
    "colab": {
     "base_uri": "https://localhost:8080/",
     "height": 868
    },
    "executionInfo": {
     "elapsed": 2894,
     "status": "ok",
     "timestamp": 1756293445632,
     "user": {
      "displayName": "Basharat Hussain",
      "userId": "14124140969393964043"
     },
     "user_tz": -300
    },
    "id": "ZkqhhSCm5YXJ",
    "outputId": "ba0310a8-e08f-4d92-f025-6c96ef9c4819"
   },
   "outputs": [
    {
     "data": {
      "text/html": [
       "Finishing previous runs because reinit is set to 'default'."
      ],
      "text/plain": [
       "<IPython.core.display.HTML object>"
      ]
     },
     "metadata": {},
     "output_type": "display_data"
    },
    {
     "data": {
      "text/html": [],
      "text/plain": [
       "<IPython.core.display.HTML object>"
      ]
     },
     "metadata": {},
     "output_type": "display_data"
    },
    {
     "data": {
      "text/html": [
       "<br>    <style><br>        .wandb-row {<br>            display: flex;<br>            flex-direction: row;<br>            flex-wrap: wrap;<br>            justify-content: flex-start;<br>            width: 100%;<br>        }<br>        .wandb-col {<br>            display: flex;<br>            flex-direction: column;<br>            flex-basis: 100%;<br>            flex: 1;<br>            padding: 10px;<br>        }<br>    </style><br><div class=\"wandb-row\"><div class=\"wandb-col\"><h3>Run history:</h3><br/><table class=\"wandb\"><tr><td>eval/loss</td><td>█▄▂▂▁▁▁</td></tr><tr><td>eval/runtime</td><td>▄▅█▁▆▄▃</td></tr><tr><td>eval/samples_per_second</td><td>▅▄▁█▃▅▆</td></tr><tr><td>eval/steps_per_second</td><td>▅▄▁█▃▅▆</td></tr><tr><td>train/epoch</td><td>▁▂▂▃▄▄▅▅▆▇▇▇█▁▂▂▂▃▃▄▅▅▅▆▆▇▇▇█</td></tr><tr><td>train/global_step</td><td>▁▂▂▃▄▄▅▅▆▇▇▇█▁▂▂▂▃▃▄▅▅▅▆▆▇▇▇█</td></tr><tr><td>train/grad_norm</td><td>█▂▂▂▁▂▂▁▁▂▁▂▁▂▁▁▁▁▁▂</td></tr><tr><td>train/learning_rate</td><td>█▇▆▆▅▄▃▃▂▁█▇▆▆▅▄▃▃▂▁</td></tr><tr><td>train/loss</td><td>█▂▂▁▁▁▁▁▁▁▂▁▂▁▁▁▁▁▁▁</td></tr></table><br/></div><div class=\"wandb-col\"><h3>Run summary:</h3><br/><table class=\"wandb\"><tr><td>eval/loss</td><td>0.67353</td></tr><tr><td>eval/runtime</td><td>10.7481</td></tr><tr><td>eval/samples_per_second</td><td>6.978</td></tr><tr><td>eval/steps_per_second</td><td>0.93</td></tr><tr><td>total_flos</td><td>1716470690611200.0</td></tr><tr><td>train/epoch</td><td>1</td></tr><tr><td>train/global_step</td><td>107</td></tr><tr><td>train/grad_norm</td><td>0.29001</td></tr><tr><td>train/learning_rate</td><td>1e-05</td></tr><tr><td>train/loss</td><td>0.5623</td></tr><tr><td>train_loss</td><td>0.60663</td></tr><tr><td>train_runtime</td><td>255.4585</td></tr><tr><td>train_samples_per_second</td><td>1.664</td></tr><tr><td>train_steps_per_second</td><td>0.419</td></tr></table><br/></div></div>"
      ],
      "text/plain": [
       "<IPython.core.display.HTML object>"
      ]
     },
     "metadata": {},
     "output_type": "display_data"
    },
    {
     "data": {
      "text/html": [
       " View run <strong style=\"color:#cdcd00\">qlora-Qwen2-1.5B-Instruct</strong> at: <a href='https://wandb.ai/basharat-hussain-78/my-finetuning/runs/ix8ff2zo' target=\"_blank\">https://wandb.ai/basharat-hussain-78/my-finetuning/runs/ix8ff2zo</a><br> View project at: <a href='https://wandb.ai/basharat-hussain-78/my-finetuning' target=\"_blank\">https://wandb.ai/basharat-hussain-78/my-finetuning</a><br>Synced 5 W&B file(s), 0 media file(s), 0 artifact file(s) and 0 other file(s)"
      ],
      "text/plain": [
       "<IPython.core.display.HTML object>"
      ]
     },
     "metadata": {},
     "output_type": "display_data"
    },
    {
     "data": {
      "text/html": [
       "Find logs at: <code>./wandb/run-20250827_104108-ix8ff2zo/logs</code>"
      ],
      "text/plain": [
       "<IPython.core.display.HTML object>"
      ]
     },
     "metadata": {},
     "output_type": "display_data"
    },
    {
     "data": {
      "text/html": [
       "Tracking run with wandb version 0.21.1"
      ],
      "text/plain": [
       "<IPython.core.display.HTML object>"
      ]
     },
     "metadata": {},
     "output_type": "display_data"
    },
    {
     "data": {
      "text/html": [
       "Run data is saved locally in <code>/content/wandb/run-20250827_111722-asox3m4v</code>"
      ],
      "text/plain": [
       "<IPython.core.display.HTML object>"
      ]
     },
     "metadata": {},
     "output_type": "display_data"
    },
    {
     "data": {
      "text/html": [
       "Syncing run <strong><a href='https://wandb.ai/basharat-hussain-78/my-finetuning/runs/asox3m4v' target=\"_blank\">qlora-Qwen2-1.5B-Instruct</a></strong> to <a href='https://wandb.ai/basharat-hussain-78/my-finetuning' target=\"_blank\">Weights & Biases</a> (<a href='https://wandb.me/developer-guide' target=\"_blank\">docs</a>)<br>"
      ],
      "text/plain": [
       "<IPython.core.display.HTML object>"
      ]
     },
     "metadata": {},
     "output_type": "display_data"
    },
    {
     "data": {
      "text/html": [
       " View project at <a href='https://wandb.ai/basharat-hussain-78/my-finetuning' target=\"_blank\">https://wandb.ai/basharat-hussain-78/my-finetuning</a>"
      ],
      "text/plain": [
       "<IPython.core.display.HTML object>"
      ]
     },
     "metadata": {},
     "output_type": "display_data"
    },
    {
     "data": {
      "text/html": [
       " View run at <a href='https://wandb.ai/basharat-hussain-78/my-finetuning/runs/asox3m4v' target=\"_blank\">https://wandb.ai/basharat-hussain-78/my-finetuning/runs/asox3m4v</a>"
      ],
      "text/plain": [
       "<IPython.core.display.HTML object>"
      ]
     },
     "metadata": {},
     "output_type": "display_data"
    },
    {
     "data": {
      "text/html": [
       "<button onClick=\"this.nextSibling.style.display='block';this.style.display='none';\">Display W&B run</button><iframe src='https://wandb.ai/basharat-hussain-78/my-finetuning/runs/asox3m4v?jupyter=true' style='border:none;width:100%;height:420px;display:none;'></iframe>"
      ],
      "text/plain": [
       "<wandb.sdk.wandb_run.Run at 0x7998cc33c2c0>"
      ]
     },
     "execution_count": 29,
     "metadata": {},
     "output_type": "execute_result"
    }
   ],
   "source": [
    "# w and b settins\n",
    "import os\n",
    "# Configure WANDB\n",
    "os.environ[\"WANDB_API_KEY\"] = \"6f8cc13db6ea6485b46be0edda82256d4XXXXX\"\n",
    "import wandb\n",
    "wandb.init(project=\"my-finetuning\", name=f\"qlora-{MODEL_NAME.split('/')[-1]}\")"
   ]
  },
  {
   "cell_type": "code",
   "execution_count": null,
   "metadata": {
    "id": "xAd0QiR65FZa"
   },
   "outputs": [],
   "source": [
    "\n",
    "# Import the required libraries\n",
    "import torch\n",
    "from datasets import load_dataset\n",
    "from transformers import AutoTokenizer, AutoModelForCausalLM, BitsAndBytesConfig, TrainingArguments, Trainer\n",
    "from peft import LoraConfig, get_peft_model, prepare_model_for_kbit_training\n",
    "import os\n"
   ]
  },
  {
   "cell_type": "code",
   "execution_count": null,
   "metadata": {
    "colab": {
     "base_uri": "https://localhost:8080/"
    },
    "executionInfo": {
     "elapsed": 17538,
     "status": "ok",
     "timestamp": 1756293463224,
     "user": {
      "displayName": "Basharat Hussain",
      "userId": "14124140969393964043"
     },
     "user_tz": -300
    },
    "id": "3JUxssUf5svT",
    "outputId": "13e9c2a0-828d-40bd-beac-f937bba4c4c4"
   },
   "outputs": [
    {
     "name": "stdout",
     "output_type": "stream",
     "text": [
      "Loading model and tokenizer...\n"
     ]
    }
   ],
   "source": [
    "# 1. Load the Model and Tokenizer\n",
    "\n",
    "# Configure 4-bit quantization\n",
    "bnb_config = BitsAndBytesConfig(\n",
    "    load_in_4bit=True,\n",
    "    bnb_4bit_quant_type=\"nf4\",\n",
    "    bnb_4bit_use_double_quant=True,\n",
    "    bnb_4bit_compute_dtype=torch.bfloat16\n",
    ")\n",
    "\n",
    "print(\"Loading model and tokenizer...\")\n",
    "model = AutoModelForCausalLM.from_pretrained(\n",
    "    MODEL_NAME,\n",
    "    quantization_config=bnb_config,\n",
    "    device_map=\"auto\"\n",
    ")\n",
    "tokenizer = AutoTokenizer.from_pretrained(MODEL_NAME)\n",
    "# Qwen tokenizer needs a pad token set explicitly\n",
    "tokenizer.pad_token = tokenizer.eos_token\n",
    "tokenizer.padding_side = \"right\" # Important for batched inference"
   ]
  },
  {
   "cell_type": "code",
   "execution_count": null,
   "metadata": {
    "id": "YtWUE_iW8qEx"
   },
   "outputs": [],
   "source": [
    "# # 2. Load and Preprocess the Dataset\n",
    "# # We'll use a small subset of the databricks-dolly-15k dataset.\n",
    "# print(\"Loading dataset...\")\n",
    "# dataset = load_dataset(\"databricks/databricks-dolly-15k\", split=\"train\")\n",
    "\n",
    "# # Select a small number of samples for a quick demonstration\n",
    "# subset_size = 500\n",
    "# dataset = dataset.select(range(subset_size))\n",
    "\n",
    "# # Function to format the data into an instruction-following prompt\n",
    "# def format_prompt(sample):\n",
    "#     if sample[\"instruction\"] and sample[\"context\"]:\n",
    "#         # Format for instruction with context\n",
    "#         prompt = f\"### Instruction:\\n{sample['instruction']}\\n\\n### Context:\\n{sample['context']}\\n\\n### Response:\\n{sample['response']}{tokenizer.eos_token}\"\n",
    "#     else:\n",
    "#         # Format for instruction without context\n",
    "#         prompt = f\"### Instruction:\\n{sample['instruction']}\\n\\n### Response:\\n{sample['response']}{tokenizer.eos_token}\"\n",
    "#     return {\"text\": prompt}\n",
    "\n",
    "# # Apply the formatting and tokenize the dataset\n",
    "# dataset = dataset.map(format_prompt, remove_columns=list(dataset.features.keys()))\n",
    "\n",
    "# def tokenize_function(examples):\n",
    "#     # This is the corrected part\n",
    "#     tokenized_output = tokenizer(examples[\"text\"], truncation=True, padding=True, max_length=512)\n",
    "#     # For causal language modeling, the labels are the same as the input_ids\n",
    "#     tokenized_output[\"labels\"] = tokenized_output[\"input_ids\"].copy()\n",
    "#     return tokenized_output\n",
    "\n",
    "# tokenized_dataset = dataset.map(tokenize_function, batched=True)"
   ]
  },
  {
   "cell_type": "code",
   "execution_count": null,
   "metadata": {
    "colab": {
     "base_uri": "https://localhost:8080/",
     "height": 66,
     "referenced_widgets": [
      "c2d92918160d42c28bc25309e32d87e1",
      "3647b9a35d5c4fcfa4918bad7de4108b",
      "54ae8f0ca6b1474b8bf8663da17db3e4",
      "cb6833d6ffd9406b8319f4bddab9ba39",
      "b3f3a6c5ac544bd7a34919c915a5949a",
      "b9c973a74e6e43ce9b292f7481bf48e6",
      "194d6f0ba3bc457f8e26725ebe59106a",
      "fbba2347865c46a1b60581ccdc63ed09",
      "de982e2d44bd468793a7ec7c36c7c1bd",
      "f7bdce9e027d4e278d2058a60ff7ce1d",
      "c96f0f70360941dfaeea12c8e9594e8a"
     ]
    },
    "executionInfo": {
     "elapsed": 2740,
     "status": "ok",
     "timestamp": 1756293465947,
     "user": {
      "displayName": "Basharat Hussain",
      "userId": "14124140969393964043"
     },
     "user_tz": -300
    },
    "id": "LHBlFuXNPrk-",
    "outputId": "4bec2312-e038-4b5a-ecb5-558ecd1988ec"
   },
   "outputs": [
    {
     "name": "stdout",
     "output_type": "stream",
     "text": [
      "Loading dataset...\n"
     ]
    },
    {
     "data": {
      "application/vnd.jupyter.widget-view+json": {
       "model_id": "c2d92918160d42c28bc25309e32d87e1",
       "version_major": 2,
       "version_minor": 0
      },
      "text/plain": [
       "Map:   0%|          | 0/75 [00:00<?, ? examples/s]"
      ]
     },
     "metadata": {},
     "output_type": "display_data"
    }
   ],
   "source": [
    "# 2. Load and Preprocess the Dataset\n",
    "# We'll use a small subset of the databricks-dolly-15k dataset.\n",
    "print(\"Loading dataset...\")\n",
    "dataset = load_dataset(\"databricks/databricks-dolly-15k\", split=\"train\")\n",
    "\n",
    "# Select a small number of samples for a quick demonstration\n",
    "subset_size = 500\n",
    "dataset = dataset.select(range(subset_size))\n",
    "\n",
    "# --- NEW: Split the dataset into 85% training and 15% evaluation ---\n",
    "dataset_split = dataset.train_test_split(test_size=0.15, seed=42)\n",
    "train_dataset = dataset_split['train']\n",
    "eval_dataset = dataset_split['test']\n",
    "\n",
    "# Function to format the data into an instruction-following prompt\n",
    "def format_prompt(sample):\n",
    "    if sample[\"instruction\"] and sample[\"context\"]:\n",
    "        prompt = f\"### Instruction:\\n{sample['instruction']}\\n\\n### Context:\\n{sample['context']}\\n\\n### Response:\\n{sample['response']}{tokenizer.eos_token}\"\n",
    "    else:\n",
    "        prompt = f\"### Instruction:\\n{sample['instruction']}\\n\\n### Response:\\n{sample['response']}{tokenizer.eos_token}\"\n",
    "    return {\"text\": prompt}\n",
    "\n",
    "# Apply formatting and tokenize to BOTH splits\n",
    "train_dataset = train_dataset.map(format_prompt, remove_columns=list(dataset.features.keys()))\n",
    "eval_dataset = eval_dataset.map(format_prompt, remove_columns=list(dataset.features.keys()))\n",
    "\n",
    "def tokenize_function(examples):\n",
    "    tokenized_output = tokenizer(examples[\"text\"], truncation=True, padding=True, max_length=512)\n",
    "    tokenized_output[\"labels\"] = tokenized_output[\"input_ids\"].copy()\n",
    "    return tokenized_output\n",
    "\n",
    "# Tokenize both datasets\n",
    "tokenized_train_dataset = train_dataset.map(tokenize_function, batched=True)\n",
    "tokenized_eval_dataset = eval_dataset.map(tokenize_function, batched=True)"
   ]
  },
  {
   "cell_type": "code",
   "execution_count": null,
   "metadata": {
    "colab": {
     "base_uri": "https://localhost:8080/"
    },
    "executionInfo": {
     "elapsed": 1159,
     "status": "ok",
     "timestamp": 1756293467116,
     "user": {
      "displayName": "Basharat Hussain",
      "userId": "14124140969393964043"
     },
     "user_tz": -300
    },
    "id": "kAUBkC178wUR",
    "outputId": "f1ca3f62-b4ed-44d4-b79d-89f6d319a58b"
   },
   "outputs": [
    {
     "name": "stdout",
     "output_type": "stream",
     "text": [
      "Preparing model for LoRA fine-tuning...\n",
      "LoRA-enabled model trainable parameters:\n",
      "trainable params: 4,358,144 || all params: 1,548,072,448 || trainable%: 0.2815\n"
     ]
    }
   ],
   "source": [
    "# 3. Configure and Prepare LoRA\n",
    "# Prepare the model for k-bit training and apply LoRA\n",
    "print(\"Preparing model for LoRA fine-tuning...\")\n",
    "model.gradient_checkpointing_enable()\n",
    "model = prepare_model_for_kbit_training(model)\n",
    "\n",
    "# LoRA configuration\n",
    "lora_config = LoraConfig(\n",
    "    r=16, # Rank of the update matrices\n",
    "    lora_alpha=32, # A scaling factor\n",
    "    target_modules=[\"q_proj\", \"k_proj\", \"v_proj\", \"o_proj\"], # Layers to apply LoRA to\n",
    "    lora_dropout=0.05,\n",
    "    bias=\"none\",\n",
    "    task_type=\"CAUSAL_LM\"\n",
    ")\n",
    "\n",
    "# Apply LoRA to the model\n",
    "model = get_peft_model(model, lora_config)\n",
    "print(\"LoRA-enabled model trainable parameters:\")\n",
    "model.print_trainable_parameters()\n"
   ]
  },
  {
   "cell_type": "code",
   "execution_count": null,
   "metadata": {
    "colab": {
     "base_uri": "https://localhost:8080/",
     "height": 790
    },
    "executionInfo": {
     "elapsed": 504809,
     "status": "ok",
     "timestamp": 1756293971921,
     "user": {
      "displayName": "Basharat Hussain",
      "userId": "14124140969393964043"
     },
     "user_tz": -300
    },
    "id": "z3Q7Sdc_P7oS",
    "outputId": "917515ab-2f3f-404d-9264-27a742abda10"
   },
   "outputs": [
    {
     "name": "stdout",
     "output_type": "stream",
     "text": [
      "Starting training...\n"
     ]
    },
    {
     "name": "stderr",
     "output_type": "stream",
     "text": [
      "/usr/local/lib/python3.12/dist-packages/torch/_dynamo/eval_frame.py:929: UserWarning: torch.utils.checkpoint: the use_reentrant parameter should be passed explicitly. In version 2.5 we will raise an exception if use_reentrant is not passed. use_reentrant=False is recommended, but if you need to preserve the current default behavior, you can pass use_reentrant=True. Refer to docs for more details on the differences between the two variants.\n",
      "  return fn(*args, **kwargs)\n"
     ]
    },
    {
     "data": {
      "text/html": [
       "\n",
       "    <div>\n",
       "      \n",
       "      <progress value='200' max='200' style='width:300px; height:20px; vertical-align: middle;'></progress>\n",
       "      [200/200 08:21, Epoch 1/2]\n",
       "    </div>\n",
       "    <table border=\"1\" class=\"dataframe\">\n",
       "  <thead>\n",
       " <tr style=\"text-align: left;\">\n",
       "      <th>Step</th>\n",
       "      <th>Training Loss</th>\n",
       "      <th>Validation Loss</th>\n",
       "    </tr>\n",
       "  </thead>\n",
       "  <tbody>\n",
       "    <tr>\n",
       "      <td>20</td>\n",
       "      <td>6.633500</td>\n",
       "      <td>6.506318</td>\n",
       "    </tr>\n",
       "    <tr>\n",
       "      <td>40</td>\n",
       "      <td>6.238100</td>\n",
       "      <td>6.344378</td>\n",
       "    </tr>\n",
       "    <tr>\n",
       "      <td>60</td>\n",
       "      <td>5.925500</td>\n",
       "      <td>6.195878</td>\n",
       "    </tr>\n",
       "    <tr>\n",
       "      <td>80</td>\n",
       "      <td>6.315000</td>\n",
       "      <td>6.061641</td>\n",
       "    </tr>\n",
       "    <tr>\n",
       "      <td>100</td>\n",
       "      <td>6.224800</td>\n",
       "      <td>5.937949</td>\n",
       "    </tr>\n",
       "    <tr>\n",
       "      <td>120</td>\n",
       "      <td>5.823200</td>\n",
       "      <td>5.834892</td>\n",
       "    </tr>\n",
       "    <tr>\n",
       "      <td>140</td>\n",
       "      <td>5.674300</td>\n",
       "      <td>5.750713</td>\n",
       "    </tr>\n",
       "    <tr>\n",
       "      <td>160</td>\n",
       "      <td>5.601800</td>\n",
       "      <td>5.688202</td>\n",
       "    </tr>\n",
       "    <tr>\n",
       "      <td>180</td>\n",
       "      <td>5.532700</td>\n",
       "      <td>5.652578</td>\n",
       "    </tr>\n",
       "    <tr>\n",
       "      <td>200</td>\n",
       "      <td>5.483600</td>\n",
       "      <td>5.640906</td>\n",
       "    </tr>\n",
       "  </tbody>\n",
       "</table><p>"
      ],
      "text/plain": [
       "<IPython.core.display.HTML object>"
      ]
     },
     "metadata": {},
     "output_type": "display_data"
    },
    {
     "name": "stderr",
     "output_type": "stream",
     "text": [
      "/usr/local/lib/python3.12/dist-packages/torch/_dynamo/eval_frame.py:929: UserWarning: torch.utils.checkpoint: the use_reentrant parameter should be passed explicitly. In version 2.5 we will raise an exception if use_reentrant is not passed. use_reentrant=False is recommended, but if you need to preserve the current default behavior, you can pass use_reentrant=True. Refer to docs for more details on the differences between the two variants.\n",
      "  return fn(*args, **kwargs)\n",
      "/usr/local/lib/python3.12/dist-packages/torch/_dynamo/eval_frame.py:929: UserWarning: torch.utils.checkpoint: the use_reentrant parameter should be passed explicitly. In version 2.5 we will raise an exception if use_reentrant is not passed. use_reentrant=False is recommended, but if you need to preserve the current default behavior, you can pass use_reentrant=True. Refer to docs for more details on the differences between the two variants.\n",
      "  return fn(*args, **kwargs)\n",
      "/usr/local/lib/python3.12/dist-packages/torch/_dynamo/eval_frame.py:929: UserWarning: torch.utils.checkpoint: the use_reentrant parameter should be passed explicitly. In version 2.5 we will raise an exception if use_reentrant is not passed. use_reentrant=False is recommended, but if you need to preserve the current default behavior, you can pass use_reentrant=True. Refer to docs for more details on the differences between the two variants.\n",
      "  return fn(*args, **kwargs)\n",
      "/usr/local/lib/python3.12/dist-packages/torch/_dynamo/eval_frame.py:929: UserWarning: torch.utils.checkpoint: the use_reentrant parameter should be passed explicitly. In version 2.5 we will raise an exception if use_reentrant is not passed. use_reentrant=False is recommended, but if you need to preserve the current default behavior, you can pass use_reentrant=True. Refer to docs for more details on the differences between the two variants.\n",
      "  return fn(*args, **kwargs)\n",
      "/usr/local/lib/python3.12/dist-packages/torch/_dynamo/eval_frame.py:929: UserWarning: torch.utils.checkpoint: the use_reentrant parameter should be passed explicitly. In version 2.5 we will raise an exception if use_reentrant is not passed. use_reentrant=False is recommended, but if you need to preserve the current default behavior, you can pass use_reentrant=True. Refer to docs for more details on the differences between the two variants.\n",
      "  return fn(*args, **kwargs)\n",
      "/usr/local/lib/python3.12/dist-packages/torch/_dynamo/eval_frame.py:929: UserWarning: torch.utils.checkpoint: the use_reentrant parameter should be passed explicitly. In version 2.5 we will raise an exception if use_reentrant is not passed. use_reentrant=False is recommended, but if you need to preserve the current default behavior, you can pass use_reentrant=True. Refer to docs for more details on the differences between the two variants.\n",
      "  return fn(*args, **kwargs)\n",
      "/usr/local/lib/python3.12/dist-packages/torch/_dynamo/eval_frame.py:929: UserWarning: torch.utils.checkpoint: the use_reentrant parameter should be passed explicitly. In version 2.5 we will raise an exception if use_reentrant is not passed. use_reentrant=False is recommended, but if you need to preserve the current default behavior, you can pass use_reentrant=True. Refer to docs for more details on the differences between the two variants.\n",
      "  return fn(*args, **kwargs)\n",
      "/usr/local/lib/python3.12/dist-packages/torch/_dynamo/eval_frame.py:929: UserWarning: torch.utils.checkpoint: the use_reentrant parameter should be passed explicitly. In version 2.5 we will raise an exception if use_reentrant is not passed. use_reentrant=False is recommended, but if you need to preserve the current default behavior, you can pass use_reentrant=True. Refer to docs for more details on the differences between the two variants.\n",
      "  return fn(*args, **kwargs)\n",
      "/usr/local/lib/python3.12/dist-packages/torch/_dynamo/eval_frame.py:929: UserWarning: torch.utils.checkpoint: the use_reentrant parameter should be passed explicitly. In version 2.5 we will raise an exception if use_reentrant is not passed. use_reentrant=False is recommended, but if you need to preserve the current default behavior, you can pass use_reentrant=True. Refer to docs for more details on the differences between the two variants.\n",
      "  return fn(*args, **kwargs)\n"
     ]
    },
    {
     "name": "stdout",
     "output_type": "stream",
     "text": [
      "Training complete. Saving model to qwen1.5-1.5b-lora-dolly-finetuned\n"
     ]
    }
   ],
   "source": [
    "# 4. Train the Model\n",
    "output_dir = \"qwen1.5-1.5b-lora-dolly-finetuned\"\n",
    "training_args = TrainingArguments(\n",
    "    output_dir=output_dir,\n",
    "    num_train_epochs=1,\n",
    "    per_device_train_batch_size=4,\n",
    "    gradient_accumulation_steps=1,\n",
    "    learning_rate=2e-6,\n",
    "    fp16=True,\n",
    "    logging_steps=10,\n",
    "    # --- NEW: Enable evaluation during training ---\n",
    "    eval_strategy=\"steps\",\n",
    "    eval_steps=20,  # Evaluate every 100 training steps\n",
    "    load_best_model_at_end=True, # Load the best model based on evaluation loss\n",
    "    # --- FIX: Align save_strategy with eval_strategy ---\n",
    "    save_strategy=\"steps\", # Save checkpoint every `save_steps`\n",
    "    save_steps=20, # Save every 100 steps to match eval_steps\n",
    "\n",
    "    max_steps=200,  # Direct control - ignores num_train_epochs\n",
    ")\n",
    "\n",
    "# Initialize the Trainer\n",
    "print(\"Starting training...\")\n",
    "trainer = Trainer(\n",
    "    model=model,\n",
    "    args=training_args,\n",
    "    train_dataset=tokenized_train_dataset,\n",
    "    # --- NEW: Provide the evaluation dataset ---\n",
    "    eval_dataset=tokenized_eval_dataset,\n",
    ")\n",
    "\n",
    "# Start training\n",
    "trainer.train()\n",
    "\n",
    "# Save the fine-tuned model\n",
    "print(f\"Training complete. Saving model to {output_dir}\")\n",
    "trainer.save_model(output_dir)"
   ]
  },
  {
   "cell_type": "markdown",
   "metadata": {
    "id": "vBBhhrjzNa-e"
   },
   "source": [
    "# Data Visualization\n",
    "\n",
    "### Training and Validation Loss Curves"
   ]
  },
  {
   "cell_type": "code",
   "execution_count": null,
   "metadata": {
    "colab": {
     "base_uri": "https://localhost:8080/",
     "height": 607
    },
    "executionInfo": {
     "elapsed": 832,
     "status": "ok",
     "timestamp": 1756294068364,
     "user": {
      "displayName": "Basharat Hussain",
      "userId": "14124140969393964043"
     },
     "user_tz": -300
    },
    "id": "Ne4OZ4UUNW1O",
    "outputId": "462e398a-bbca-471f-a741-580f65cbe7a9"
   },
   "outputs": [
    {
     "data": {
      "image/png": "[encoded data removed]",
      "text/plain": [
       "<Figure size 1200x600 with 2 Axes>"
      ]
     },
     "metadata": {},
     "output_type": "display_data"
    }
   ],
   "source": [
    "import matplotlib.pyplot as plt\n",
    "import pandas as pd\n",
    "import json\n",
    "import os\n",
    "\n",
    "# Method 1: Extract from trainer.state.log_history (if training just completed)\n",
    "def plot_loss_curves_from_trainer(trainer):\n",
    "    \"\"\"Plot loss curves directly from trainer object\"\"\"\n",
    "    log_history = trainer.state.log_history\n",
    "\n",
    "    # Extract training and evaluation logs\n",
    "    train_logs = [log for log in log_history if 'loss' in log and 'eval_loss' not in log]\n",
    "    eval_logs = [log for log in log_history if 'eval_loss' in log]\n",
    "\n",
    "    # Create DataFrames\n",
    "    train_df = pd.DataFrame(train_logs)\n",
    "    eval_df = pd.DataFrame(eval_logs)\n",
    "\n",
    "    # Plot the curves\n",
    "    plt.figure(figsize=(12, 6))\n",
    "\n",
    "    # Training loss\n",
    "    plt.subplot(1, 2, 1)\n",
    "    if not train_df.empty:\n",
    "        plt.plot(train_df['step'], train_df['loss'], 'b-', label='Training Loss', linewidth=2)\n",
    "    if not eval_df.empty:\n",
    "        plt.plot(eval_df['step'], eval_df['eval_loss'], 'r-', label='Validation Loss', linewidth=2)\n",
    "    plt.xlabel('Training Steps')\n",
    "    plt.ylabel('Loss')\n",
    "    plt.title('Training and Validation Loss')\n",
    "    plt.legend()\n",
    "    plt.grid(True, alpha=0.3)\n",
    "\n",
    "    # Learning rate (if available)\n",
    "    plt.subplot(1, 2, 2)\n",
    "    if 'learning_rate' in train_df.columns:\n",
    "        plt.plot(train_df['step'], train_df['learning_rate'], 'g-', linewidth=2)\n",
    "        plt.xlabel('Training Steps')\n",
    "        plt.ylabel('Learning Rate')\n",
    "        plt.title('Learning Rate Schedule')\n",
    "        plt.grid(True, alpha=0.3)\n",
    "    else:\n",
    "        plt.text(0.5, 0.5, 'Learning Rate\\nNot Available',\n",
    "                ha='center', va='center', transform=plt.gca().transAxes)\n",
    "\n",
    "    plt.tight_layout()\n",
    "    plt.show()\n",
    "\n",
    "    return train_df, eval_df\n",
    "\n",
    "# Method 2: Load from saved trainer_state.json file\n",
    "def plot_loss_curves_from_file(output_dir):\n",
    "    \"\"\"Plot loss curves from saved trainer state file\"\"\"\n",
    "    trainer_state_path = os.path.join(output_dir, \"trainer_state.json\")\n",
    "\n",
    "    if not os.path.exists(trainer_state_path):\n",
    "        print(f\"trainer_state.json not found in {output_dir}\")\n",
    "        return None, None\n",
    "\n",
    "    with open(trainer_state_path, 'r') as f:\n",
    "        trainer_state = json.load(f)\n",
    "\n",
    "    log_history = trainer_state['log_history']\n",
    "\n",
    "    # Extract training and evaluation logs\n",
    "    train_logs = [log for log in log_history if 'loss' in log and 'eval_loss' not in log]\n",
    "    eval_logs = [log for log in log_history if 'eval_loss' in log]\n",
    "\n",
    "    # Create DataFrames\n",
    "    train_df = pd.DataFrame(train_logs)\n",
    "    eval_df = pd.DataFrame(eval_logs)\n",
    "\n",
    "    # Plot the curves\n",
    "    plt.figure(figsize=(15, 5))\n",
    "\n",
    "    # Combined loss plot\n",
    "    plt.subplot(1, 3, 1)\n",
    "    if not train_df.empty:\n",
    "        plt.plot(train_df['step'], train_df['loss'], 'b-', label='Training Loss', linewidth=2, marker='o', markersize=4)\n",
    "    if not eval_df.empty:\n",
    "        plt.plot(eval_df['step'], eval_df['eval_loss'], 'r-', label='Validation Loss', linewidth=2, marker='s', markersize=4)\n",
    "    plt.xlabel('Training Steps')\n",
    "    plt.ylabel('Loss')\n",
    "    plt.title('Training and Validation Loss')\n",
    "    plt.legend()\n",
    "    plt.grid(True, alpha=0.3)\n",
    "\n",
    "    # Training loss only (zoomed)\n",
    "    plt.subplot(1, 3, 2)\n",
    "    if not train_df.empty:\n",
    "        plt.plot(train_df['step'], train_df['loss'], 'b-', linewidth=2, marker='o', markersize=4)\n",
    "        plt.xlabel('Training Steps')\n",
    "        plt.ylabel('Training Loss')\n",
    "        plt.title('Training Loss (Detailed)')\n",
    "        plt.grid(True, alpha=0.3)\n",
    "\n",
    "    # Learning rate\n",
    "    plt.subplot(1, 3, 3)\n",
    "    if not train_df.empty and 'learning_rate' in train_df.columns:\n",
    "        plt.plot(train_df['step'], train_df['learning_rate'], 'g-', linewidth=2)\n",
    "        plt.xlabel('Training Steps')\n",
    "        plt.ylabel('Learning Rate')\n",
    "        plt.title('Learning Rate Schedule')\n",
    "        plt.grid(True, alpha=0.3)\n",
    "    else:\n",
    "        plt.text(0.5, 0.5, 'Learning Rate\\nNot Available',\n",
    "                ha='center', va='center', transform=plt.gca().transAxes)\n",
    "\n",
    "    plt.tight_layout()\n",
    "    plt.show()\n",
    "\n",
    "    # Print summary statistics\n",
    "    if not train_df.empty:\n",
    "        print(\"\\nTraining Loss Summary:\")\n",
    "        print(f\"Initial Loss: {train_df['loss'].iloc[0]:.4f}\")\n",
    "        print(f\"Final Loss: {train_df['loss'].iloc[-1]:.4f}\")\n",
    "        print(f\"Loss Reduction: {train_df['loss'].iloc[0] - train_df['loss'].iloc[-1]:.4f}\")\n",
    "\n",
    "    if not eval_df.empty:\n",
    "        print(\"\\nValidation Loss Summary:\")\n",
    "        print(f\"Best Validation Loss: {eval_df['eval_loss'].min():.4f}\")\n",
    "        print(f\"Final Validation Loss: {eval_df['eval_loss'].iloc[-1]:.4f}\")\n",
    "\n",
    "    return train_df, eval_df\n",
    "\n",
    "# Method 3: Advanced plotting with smoothing\n",
    "def plot_advanced_loss_curves(output_dir, smooth_factor=0.1):\n",
    "    \"\"\"Plot advanced loss curves with smoothing and additional metrics\"\"\"\n",
    "    from scipy.ndimage import uniform_filter1d\n",
    "\n",
    "    trainer_state_path = os.path.join(output_dir, \"trainer_state.json\")\n",
    "\n",
    "    if not os.path.exists(trainer_state_path):\n",
    "        print(f\"trainer_state.json not found in {output_dir}\")\n",
    "        return None, None\n",
    "\n",
    "    with open(trainer_state_path, 'r') as f:\n",
    "        trainer_state = json.load(f)\n",
    "\n",
    "    log_history = trainer_state['log_history']\n",
    "\n",
    "    # Extract training and evaluation logs\n",
    "    train_logs = [log for log in log_history if 'loss' in log and 'eval_loss' not in log]\n",
    "    eval_logs = [log for log in log_history if 'eval_loss' in log]\n",
    "\n",
    "    train_df = pd.DataFrame(train_logs)\n",
    "    eval_df = pd.DataFrame(eval_logs)\n",
    "\n",
    "    plt.figure(figsize=(16, 10))\n",
    "\n",
    "    # Main loss plot with smoothing\n",
    "    plt.subplot(2, 2, 1)\n",
    "    if not train_df.empty:\n",
    "        train_loss = train_df['loss'].values\n",
    "        train_steps = train_df['step'].values\n",
    "\n",
    "        # Apply smoothing\n",
    "        if len(train_loss) > 5:\n",
    "            smooth_train_loss = uniform_filter1d(train_loss, size=max(1, int(len(train_loss) * smooth_factor)))\n",
    "            plt.plot(train_steps, smooth_train_loss, 'b-', label='Training Loss (Smoothed)', linewidth=2, alpha=0.8)\n",
    "            plt.plot(train_steps, train_loss, 'b-', label='Training Loss (Raw)', linewidth=1, alpha=0.3)\n",
    "        else:\n",
    "            plt.plot(train_steps, train_loss, 'b-', label='Training Loss', linewidth=2, marker='o')\n",
    "\n",
    "    if not eval_df.empty:\n",
    "        plt.plot(eval_df['step'], eval_df['eval_loss'], 'r-', label='Validation Loss',\n",
    "                linewidth=2, marker='s', markersize=6, alpha=0.8)\n",
    "\n",
    "    plt.xlabel('Training Steps')\n",
    "    plt.ylabel('Loss')\n",
    "    plt.title('Training and Validation Loss Curves')\n",
    "    plt.legend()\n",
    "    plt.grid(True, alpha=0.3)\n",
    "\n",
    "    # Loss difference plot\n",
    "    plt.subplot(2, 2, 2)\n",
    "    if not train_df.empty and not eval_df.empty:\n",
    "        # Interpolate training loss to match eval steps\n",
    "        import numpy as np\n",
    "        eval_steps = eval_df['step'].values\n",
    "        train_loss_interp = np.interp(eval_steps, train_df['step'], train_df['loss'])\n",
    "        loss_diff = eval_df['eval_loss'].values - train_loss_interp\n",
    "\n",
    "        plt.plot(eval_steps, loss_diff, 'purple', linewidth=2, marker='o')\n",
    "        plt.axhline(y=0, color='black', linestyle='--', alpha=0.5)\n",
    "        plt.xlabel('Training Steps')\n",
    "        plt.ylabel('Validation - Training Loss')\n",
    "        plt.title('Overfitting Indicator')\n",
    "        plt.grid(True, alpha=0.3)\n",
    "\n",
    "        # Add text annotation\n",
    "        if np.mean(loss_diff) > 0:\n",
    "            plt.text(0.05, 0.95, 'Potential Overfitting\\n(Val > Train)',\n",
    "                    transform=plt.gca().transAxes, va='top',\n",
    "                    bbox=dict(boxstyle=\"round,pad=0.3\", facecolor=\"yellow\", alpha=0.7))\n",
    "\n",
    "    # Learning rate subplot\n",
    "    plt.subplot(2, 2, 3)\n",
    "    if not train_df.empty and 'learning_rate' in train_df.columns:\n",
    "        plt.semilogy(train_df['step'], train_df['learning_rate'], 'g-', linewidth=2)\n",
    "        plt.xlabel('Training Steps')\n",
    "        plt.ylabel('Learning Rate (log scale)')\n",
    "        plt.title('Learning Rate Schedule')\n",
    "        plt.grid(True, alpha=0.3)\n",
    "\n",
    "    # Training speed subplot\n",
    "    plt.subplot(2, 2, 4)\n",
    "    if not train_df.empty and 'train_samples_per_second' in train_df.columns:\n",
    "        plt.plot(train_df['step'], train_df['train_samples_per_second'], 'orange', linewidth=2)\n",
    "        plt.xlabel('Training Steps')\n",
    "        plt.ylabel('Samples/Second')\n",
    "        plt.title('Training Speed')\n",
    "        plt.grid(True, alpha=0.3)\n",
    "    elif not train_df.empty:\n",
    "        # Show loss rate of change\n",
    "        if len(train_df) > 1:\n",
    "            loss_diff = np.diff(train_df['loss'])\n",
    "            step_diff = np.diff(train_df['step'])\n",
    "            loss_rate = -loss_diff / step_diff  # Negative because we want positive when loss decreases\n",
    "\n",
    "            plt.plot(train_df['step'][1:], loss_rate, 'orange', linewidth=2)\n",
    "            plt.axhline(y=0, color='black', linestyle='--', alpha=0.5)\n",
    "            plt.xlabel('Training Steps')\n",
    "            plt.ylabel('Loss Decrease Rate')\n",
    "            plt.title('Learning Progress Rate')\n",
    "            plt.grid(True, alpha=0.3)\n",
    "\n",
    "    plt.tight_layout()\n",
    "    plt.show()\n",
    "\n",
    "    return train_df, eval_df\n",
    "\n",
    "# Usage examples:\n",
    "\n",
    "# If you just finished training and have the trainer object:\n",
    "train_df, eval_df = plot_loss_curves_from_trainer(trainer)\n",
    "\n",
    "\n",
    "\n"
   ]
  },
  {
   "cell_type": "code",
   "execution_count": null,
   "metadata": {
    "id": "FAaXX0onN_Z3"
   },
   "outputs": [],
   "source": [
    "\n",
    "# If you want to load from saved files:\n",
    "output_dir = \"qwen1.5-1.5b-lora-dolly-finetuned\"  # Your model output directory\n",
    "\n",
    "# Basic plotting\n",
    "print(\"Creating basic loss curves...\")\n",
    "train_df, eval_df = plot_loss_curves_from_file(output_dir)\n",
    "\n",
    "# Advanced plotting with smoothing\n",
    "print(\"\\nCreating advanced loss curves...\")\n",
    "train_df_adv, eval_df_adv = plot_advanced_loss_curves(output_dir)\n",
    "\n",
    "# Optional: Save the plots\n",
    "def save_loss_plots(output_dir):\n",
    "    \"\"\"Save loss plots as PNG files\"\"\"\n",
    "    import matplotlib.pyplot as plt\n",
    "\n",
    "    # Recreate the plots\n",
    "    train_df, eval_df = plot_loss_curves_from_file(output_dir)\n",
    "\n",
    "    # Save the current figure\n",
    "    plt.savefig(os.path.join(output_dir, 'loss_curves.png'), dpi=300, bbox_inches='tight')\n",
    "    print(f\"Loss curves saved to {os.path.join(output_dir, 'loss_curves.png')}\")\n",
    "\n",
    "# Uncomment to save plots:\n",
    "# save_loss_plots(output_dir)"
   ]
  },
  {
   "cell_type": "markdown",
   "metadata": {
    "id": "XGFtism19OzE"
   },
   "source": []
  },
  {
   "cell_type": "code",
   "execution_count": null,
   "metadata": {
    "colab": {
     "base_uri": "https://localhost:8080/"
    },
    "executionInfo": {
     "elapsed": 435,
     "status": "ok",
     "timestamp": 1756292387811,
     "user": {
      "displayName": "Basharat Hussain",
      "userId": "14124140969393964043"
     },
     "user_tz": -300
    },
    "id": "ETfTL4bb4t5x",
    "outputId": "7216b4a3-56fc-4f5d-e806-784e3664b072"
   },
   "outputs": [
    {
     "name": "stdout",
     "output_type": "stream",
     "text": [
      "Training complete. Saving model to qwen1.5-1.5b-lora-dolly-finetuned\n",
      "Fine-tuning successful! The LoRA weights are saved in the specified directory.\n"
     ]
    }
   ],
   "source": [
    "\n",
    "# 5. Save the Fine-Tuned Model Locally\n",
    "# The trainer automatically saves the LoRA adapter weights\n",
    "print(f\"Training complete. Saving model to {output_dir}\")\n",
    "trainer.save_model(output_dir)\n",
    "\n",
    "print(\"Fine-tuning successful! The LoRA weights are saved in the specified directory.\")"
   ]
  },
  {
   "cell_type": "code",
   "execution_count": null,
   "metadata": {
    "colab": {
     "base_uri": "https://localhost:8080/",
     "height": 34,
     "referenced_widgets": [
      "205765017c0a4a93a256647b4dc6421a",
      "c56a5a4a7d9f4837844ef6422c2cc4ab",
      "3d43b307e4ef45a8b10e122dd8ca4723",
      "75008f70d10646f9b426c97ca44a87df",
      "addd0f79b90248179c3e56828d2add6a",
      "435fb446bfb14009be57896b36152732",
      "9298e6816b4e4b50a7d0771e70cd995e",
      "5aabe3a1476a45608bd2e14136efb0d7",
      "1c3f0b81d42746b98a865d2a7a40bd20",
      "7c1e6b721d674f8daf3367265a8da329",
      "131518f5ebf4402c9f21251bf7f2a77d",
      "dcfba748226845ca83ee200c3432c5c2",
      "f8d1571dbabb47659201909de7a4d9fe",
      "14e68cfb1c16476d87f40cbc437ba239",
      "e7958dffebe44f83b4184b988f6349f6",
      "a529c66b692b472db6458011e49c09f8",
      "702a8f338fb3421ea18e91ddfe99f08e",
      "23cffc5e0da14caf9c0236a45921f233",
      "d1a857a2c9ba402d923df694bc349fd4",
      "e087ab0858c54e24931233044f4729e7"
     ]
    },
    "executionInfo": {
     "elapsed": 59,
     "status": "ok",
     "timestamp": 1756292389226,
     "user": {
      "displayName": "Basharat Hussain",
      "userId": "14124140969393964043"
     },
     "user_tz": -300
    },
    "id": "qCbZoMo5Dr2C",
    "outputId": "615364ec-4421-4f8d-88a9-3b71e8089d58"
   },
   "outputs": [
    {
     "data": {
      "application/vnd.jupyter.widget-view+json": {
       "model_id": "205765017c0a4a93a256647b4dc6421a",
       "version_major": 2,
       "version_minor": 0
      },
      "text/plain": [
       "VBox(children=(HTML(value='<center> <img\\nsrc=https://huggingface.co/front/assets/huggingface_logo-noborder.sv…"
      ]
     },
     "metadata": {},
     "output_type": "display_data"
    },
    {
     "name": "stdout",
     "output_type": "stream",
     "text": [
      "An error occurred during upload: name 'finetuned_model' is not defined\n"
     ]
    }
   ],
   "source": [
    "# 6. Save the Fine-Tuned Model Locally ->>> to Huggaing Face\n",
    "\n",
    "from huggingface_hub import notebook_login\n",
    "\n",
    "notebook_login()\n",
    "\n",
    "\n",
    "\n",
    "from transformers import AutoTokenizer, AutoModelForCausalLM\n",
    "from peft import PeftModel\n",
    "\n",
    "# The directory where you saved your LoRA adapters\n",
    "local_adapter_dir = \"qwen1.5-1.5b-lora-dolly-finetuned\"\n",
    "# The name of your new repository on the Hugging Face Hub\n",
    "hub_repo_id = \"YOUR_USERNAME/your-qwen-lora-model\"\n",
    "hub_repo_id = \"Basharat78/qwen1.5-1.5b-lora-dolly-finetuned\"\n",
    "# Replace YOUR_USERNAME with your actual Hugging Face username\n",
    "\n",
    "# Push the adapter and tokenizer files to the Hub\n",
    "# The push_to_hub() method handles the creation of the repo and file upload automatically\n",
    "try:\n",
    "    finetuned_model.push_to_hub(hub_repo_id)\n",
    "    tokenizer.push_to_hub(hub_repo_id)\n",
    "    print(f\"Model and tokenizer successfully uploaded to {hub_repo_id}\")\n",
    "except Exception as e:\n",
    "    print(f\"An error occurred during upload: {e}\")"
   ]
  },
  {
   "cell_type": "markdown",
   "metadata": {
    "id": "XYu3ZK6U9UVq"
   },
   "source": [
    "# Evaluate the locally saved and Finetuned Model (3 steps)"
   ]
  },
  {
   "cell_type": "code",
   "execution_count": null,
   "metadata": {
    "id": "FqHS1ckm9TMC"
   },
   "outputs": [],
   "source": [
    "# 1. Load the base model\n",
    "\n",
    "import torch\n",
    "from transformers import AutoTokenizer, AutoModelForCausalLM, BitsAndBytesConfig\n",
    "from peft import PeftModel\n",
    "\n",
    "# Load the base model in 4-bit, just like during training\n",
    "model_id = \"Qwen/Qwen2-1.5B-Instruct\"\n",
    "\n",
    "bnb_config = BitsAndBytesConfig(\n",
    "    load_in_4bit=True,\n",
    "    bnb_4bit_quant_type=\"nf4\",\n",
    "    bnb_4bit_use_double_quant=True,\n",
    "    bnb_4bit_compute_dtype=torch.bfloat16\n",
    ")\n",
    "\n",
    "base_model = AutoModelForCausalLM.from_pretrained(\n",
    "    model_id,\n",
    "    quantization_config=bnb_config,\n",
    "    device_map=\"auto\"\n",
    ")\n",
    "tokenizer = AutoTokenizer.from_pretrained(model_id)\n",
    "tokenizer.pad_token = tokenizer.eos_token\n",
    "tokenizer.padding_side = \"left\"  # Change padding side for inference\n"
   ]
  },
  {
   "cell_type": "code",
   "execution_count": null,
   "metadata": {
    "colab": {
     "base_uri": "https://localhost:8080/"
    },
    "executionInfo": {
     "elapsed": 329,
     "status": "ok",
     "timestamp": 1756292767620,
     "user": {
      "displayName": "Basharat Hussain",
      "userId": "14124140969393964043"
     },
     "user_tz": -300
    },
    "id": "qUSLFiT54t27",
    "outputId": "a6156952-5bad-49bc-8726-3f3d6103aa7d"
   },
   "outputs": [
    {
     "name": "stdout",
     "output_type": "stream",
     "text": [
      "Loading LoRA adapter from qwen1.5-1.5b-lora-dolly-finetuned...\n"
     ]
    }
   ],
   "source": [
    "# 2. Load local finetuned adapter\n",
    "\n",
    "# Path to your saved LoRA adapter weights\n",
    "adapter_path = \"qwen1.5-1.5b-lora-dolly-finetuned\"\n",
    "\n",
    "print(f\"Loading LoRA adapter from {adapter_path}...\")\n",
    "model = PeftModel.from_pretrained(base_model, adapter_path)\n",
    "\n",
    "# You can optionally merge the adapter weights into the base model\n",
    "# This is useful for saving the final model for deployment and can improve inference speed.\n",
    "# model = model.merge_and_unload()"
   ]
  },
  {
   "cell_type": "code",
   "execution_count": null,
   "metadata": {
    "colab": {
     "base_uri": "https://localhost:8080/"
    },
    "executionInfo": {
     "elapsed": 9673,
     "status": "ok",
     "timestamp": 1756292778834,
     "user": {
      "displayName": "Basharat Hussain",
      "userId": "14124140969393964043"
     },
     "user_tz": -300
    },
    "id": "w8uIbB-N4t0K",
    "outputId": "a6c1d71c-4bfb-4016-cc8b-2c885075e395"
   },
   "outputs": [
    {
     "name": "stdout",
     "output_type": "stream",
     "text": [
      "Generating response...\n",
      "\n",
      "--- Generated Output ---\n",
      "### Instruction:\n",
      "What are the benefits of a plant-based diet?\n",
      "\n",
      "### Response: \n",
      "The benefits of a plant-based diet include reduced risk for many types of diseases, including cancer and heart disease. It also can improve digestion, reduce the need for antibiotics, and help you stay within your recommended daily calorie intake. Additionally, it is considered more sustainable than a meat-based diet as it requires less water to produce and produces fewer greenhouse gases.\n"
     ]
    }
   ],
   "source": [
    "# 3. Test the prompt\n",
    "\n",
    "# Test the model with a sample prompt\n",
    "prompt = \"### Instruction:\\nWhat are the benefits of a plant-based diet?\\n\\n### Response:\"\n",
    "\n",
    "# Tokenize the input prompt\n",
    "inputs = tokenizer(prompt, return_tensors=\"pt\").to(\"cuda\")\n",
    "\n",
    "print(\"Generating response...\")\n",
    "# Generate a response from the model\n",
    "with torch.no_grad():\n",
    "    outputs = model.generate(\n",
    "        **inputs,\n",
    "        max_new_tokens=256,\n",
    "        do_sample=True,\n",
    "        top_p=0.9,\n",
    "        temperature=0.7,\n",
    "        pad_token_id=tokenizer.eos_token_id\n",
    "    )\n",
    "\n",
    "# Decode and print the generated output\n",
    "generated_text = tokenizer.decode(outputs[0], skip_special_tokens=True)\n",
    "\n",
    "# Print the full generated text\n",
    "print(\"\\n--- Generated Output ---\")\n",
    "print(generated_text)"
   ]
  },
  {
   "cell_type": "markdown",
   "metadata": {
    "id": "rzQcNuCKF_Li"
   },
   "source": [
    "# Compare the Base and (Locally) Finetuned models side-by-side"
   ]
  },
  {
   "cell_type": "code",
   "execution_count": null,
   "metadata": {
    "colab": {
     "base_uri": "https://localhost:8080/"
    },
    "executionInfo": {
     "elapsed": 45682,
     "status": "ok",
     "timestamp": 1756140281003,
     "user": {
      "displayName": "Basharat hussain",
      "userId": "01707569703308499646"
     },
     "user_tz": -300
    },
    "id": "ADNTI2l34txC",
    "outputId": "ae575e87-18af-42bf-f0d8-58cbaf92ce7a"
   },
   "outputs": [
    {
     "name": "stdout",
     "output_type": "stream",
     "text": [
      "Loading the original base model...\n",
      "Loading the fine-tuned model with LoRA adapter from qwen1.5-1.5b-lora-dolly-finetuned...\n",
      "\n",
      "--- Generating output from the ORIGINAL base model ---\n",
      "### Instruction:\n",
      "What are the benefits of a plant-based diet?\n",
      "\n",
      "### Response: Plant-based diets have several health advantages over their meat-based counterparts. These include:\n",
      "\n",
      "- Lower risk of cardiovascular disease\n",
      "- Lower blood pressure\n",
      "- Lower cholesterol levels\n",
      "- Better bone density\n",
      "- Less cancer risk\n",
      "- Fewer gastrointestinal disorders\n",
      "\n",
      "Additionally, studies show that plant-based diets can reduce the amount of calories needed to maintain weight and improve energy levels.\n",
      "Sources:\n",
      "http://www.ncbi.nlm.nih.gov/pmc/articles/PMC4120739/\n",
      "https://www.nutrition.org/articles/how-dietary-fat-affects-blood-pressure-and-heart-health/\n",
      "https://www.ncbi.nlm.nih.gov/pmc/articles/PMC5684190/\n",
      "\n",
      "--- Generating output from the FINE-TUNED model ---\n",
      "### Instruction:\n",
      "What are the benefits of a plant-based diet?\n",
      "\n",
      "### Response: The primary benefit to a plant-based diet is that it reduces your risk of heart disease. Heart disease, as we all know, is one of the most deadly diseases in the world and can be prevented by eating a plant-based diet.\n",
      "Another benefit is weight loss and increased energy levels. Studies have shown that people who eat a plant-based diet lose more weight than those who do not. This is because they are consuming fewer calories overall than those on a meat-based diet. Additionally, studies show that a plant-based diet improves insulin sensitivity, meaning you may have less difficulty with diabetes. It also contains more nutrients that are beneficial for health and longevity. Lastly, a plant-based diet has been shown to reduce the risk of certain cancers.\n"
     ]
    }
   ],
   "source": [
    "# ###\n",
    "# Side-by-Side Comparison Code\n",
    "# This script will:\n",
    "\n",
    "# Load the original base model (the same one you started with).\n",
    "\n",
    "# Load your fine-tuned model (which has the LoRA adapter).\n",
    "\n",
    "# Use the exact same prompt for both models.\n",
    "\n",
    "# Print the output from each model clearly labeled, so you can see the difference.\n",
    "\n",
    "###\n",
    "\n",
    "\n",
    "import torch\n",
    "from transformers import AutoTokenizer, AutoModelForCausalLM, BitsAndBytesConfig\n",
    "from peft import PeftModel\n",
    "\n",
    "# Define the model ID and adapter path\n",
    "model_id = \"Qwen/Qwen2-1.5B-Instruct\"\n",
    "adapter_path = \"qwen1.5-1.5b-lora-dolly-finetuned\"\n",
    "\n",
    "# Configure 4-bit quantization for consistent loading\n",
    "bnb_config = BitsAndBytesConfig(\n",
    "    load_in_4bit=True,\n",
    "    bnb_4bit_quant_type=\"nf4\",\n",
    "    bnb_4bit_use_double_quant=True,\n",
    "    bnb_4bit_compute_dtype=torch.bfloat16\n",
    ")\n",
    "\n",
    "# 1. Load the Base Model\n",
    "# This is the original model without any fine-tuning.\n",
    "print(\"Loading the original base model...\")\n",
    "base_model = AutoModelForCausalLM.from_pretrained(\n",
    "    model_id,\n",
    "    quantization_config=bnb_config,\n",
    "    device_map=\"auto\"\n",
    ")\n",
    "tokenizer = AutoTokenizer.from_pretrained(model_id)\n",
    "tokenizer.pad_token = tokenizer.eos_token\n",
    "tokenizer.padding_side = \"left\"\n",
    "\n",
    "# 2. Load the Fine-Tuned Model (Base Model + LoRA)\n",
    "# This model has your fine-tuned weights applied.\n",
    "print(f\"Loading the fine-tuned model with LoRA adapter from {adapter_path}...\")\n",
    "finetuned_model = PeftModel.from_pretrained(base_model, adapter_path)\n",
    "\n",
    "# 3. Define the Prompt\n",
    "# Use the exact same prompt for both models to ensure a fair comparison.\n",
    "prompt = \"### Instruction:\\nWhat are the benefits of a plant-based diet?\\n\\n### Response:\"\n",
    "\n",
    "# Tokenize the prompt\n",
    "inputs = tokenizer(prompt, return_tensors=\"pt\").to(\"cuda\")\n",
    "\n",
    "# 4. Generate Output from Both Models\n",
    "print(\"\\n--- Generating output from the ORIGINAL base model ---\")\n",
    "with torch.no_grad():\n",
    "    base_outputs = base_model.generate(\n",
    "        **inputs,\n",
    "        max_new_tokens=256,\n",
    "        do_sample=True,\n",
    "        top_p=0.9,\n",
    "        temperature=0.7,\n",
    "        pad_token_id=tokenizer.eos_token_id\n",
    "    )\n",
    "base_text = tokenizer.decode(base_outputs[0], skip_special_tokens=True)\n",
    "print(base_text)\n",
    "\n",
    "print(\"\\n--- Generating output from the FINE-TUNED model ---\")\n",
    "with torch.no_grad():\n",
    "    finetuned_outputs = finetuned_model.generate(\n",
    "        **inputs,\n",
    "        max_new_tokens=256,\n",
    "        do_sample=True,\n",
    "        top_p=0.9,\n",
    "        temperature=0.7,\n",
    "        pad_token_id=tokenizer.eos_token_id\n",
    "    )\n",
    "finetuned_text = tokenizer.decode(finetuned_outputs[0], skip_special_tokens=True)\n",
    "print(finetuned_text)"
   ]
  },
  {
   "cell_type": "markdown",
   "metadata": {
    "id": "mm0DPOlMGY-i"
   },
   "source": [
    "# Load model from HF and test it\n",
    "###  Loading the Model from Anywhere"
   ]
  },
  {
   "cell_type": "code",
   "execution_count": null,
   "metadata": {
    "colab": {
     "base_uri": "https://localhost:8080/",
     "height": 265,
     "referenced_widgets": [
      "b9a0aa47e7524dfdad163a4ea6e8014a",
      "cbec95b8c6104c45bac50cdc95e59f8d",
      "3e45b3c963c24fdaa1117898cc623b99",
      "a61385d1e0b44c4e8f9345a8d0176960",
      "afe5d7eabc534c028c96c51adfa94d7a",
      "d1199bda946146768e6abc42a5803f6f",
      "8c435221151b4be8bf3f8f0aa5dcdfab",
      "3f8a87833ca847eea03c67c037811276",
      "faadca238177412c99121b2a6af942cd",
      "d48eb22a3b1b4d43b2f5a35d79106b13",
      "c495d4113d494e2a8fd95f896b316671",
      "32736effc4734051aeb7d9f31f99a8ba",
      "966c462e7a504ea38cee8f2b4f452146",
      "f8d0291ab7a44a7cbcac38170d535f42",
      "cd2c9c72070e4c61876d297691b7b835",
      "0d08a4e7ad3a4acd9a55a82ab4907fca",
      "2e7a986c37904cdfa0236d168a7751ea",
      "1bbb3ec103e843a2a027bd468cc6ce9d",
      "5ba0792de78241d99a943ee61f9eb046",
      "7edda695011847368a97d583654c226e",
      "8f9debf2c35a4e1cb41c11b8a91d695b",
      "1b501f0b1146455e983eb290b7baa43f"
     ]
    },
    "executionInfo": {
     "elapsed": 31383,
     "status": "ok",
     "timestamp": 1756141659261,
     "user": {
      "displayName": "Basharat hussain",
      "userId": "01707569703308499646"
     },
     "user_tz": -300
    },
    "id": "PkiDKofLGYiy",
    "outputId": "925d6ced-ac1d-4a9a-fe6b-9e641404fc01"
   },
   "outputs": [
    {
     "name": "stdout",
     "output_type": "stream",
     "text": [
      "Loading the original base model...\n",
      "Loading LoRA adapter from Basharat78/qwen1.5-1.5b-lora-dolly-finetuned...\n"
     ]
    },
    {
     "data": {
      "application/vnd.jupyter.widget-view+json": {
       "model_id": "b9a0aa47e7524dfdad163a4ea6e8014a",
       "version_major": 2,
       "version_minor": 0
      },
      "text/plain": [
       "adapter_config.json:   0%|          | 0.00/887 [00:00<?, ?B/s]"
      ]
     },
     "metadata": {},
     "output_type": "display_data"
    },
    {
     "data": {
      "application/vnd.jupyter.widget-view+json": {
       "model_id": "32736effc4734051aeb7d9f31f99a8ba",
       "version_major": 2,
       "version_minor": 0
      },
      "text/plain": [
       "adapter_model.safetensors:   0%|          | 0.00/17.5M [00:00<?, ?B/s]"
      ]
     },
     "metadata": {},
     "output_type": "display_data"
    },
    {
     "name": "stdout",
     "output_type": "stream",
     "text": [
      "Generating response from the loaded Hub model...\n",
      "\n",
      "--- Generated Output from Hugging Face Hub Model ---\n",
      "### Instruction:\n",
      "What are the benefits of a plant-based diet?\n",
      "\n",
      "### Response: Plant based diets can help prevent heart disease, stroke, type 2 diabetes and obesity. They can also improve kidney function in individuals with chronic kidney disease, which is why they are often recommended for people who have kidney disease. In addition, they provide a wide range of vitamins and minerals that are often lacking in animal based diets. This includes vitamin B12, which is only found in fortified foods in small amounts. There are many other health benefits of eating more fruits and vegetables including improved gut health, reduced risk of certain cancers, and decreased risk of osteoporosis.\n"
     ]
    }
   ],
   "source": [
    "import torch\n",
    "from transformers import AutoTokenizer, AutoModelForCausalLM, BitsAndBytesConfig\n",
    "from peft import PeftModel\n",
    "\n",
    "# Define the full repository ID for your uploaded model\n",
    "hub_repo_id = \"Basharat78/qwen1.5-1.5b-lora-dolly-finetuned\"\n",
    "\n",
    "# Define the original base model's ID\n",
    "base_model_id = \"Qwen/Qwen2-1.5B-Instruct\"\n",
    "\n",
    "# 1. Load the base model with quantization\n",
    "print(\"Loading the original base model...\")\n",
    "bnb_config = BitsAndBytesConfig(\n",
    "    load_in_4bit=True,\n",
    "    bnb_4bit_quant_type=\"nf4\",\n",
    "    bnb_4bit_use_double_quant=True,\n",
    "    bnb_4bit_compute_dtype=torch.bfloat16\n",
    ")\n",
    "base_model = AutoModelForCausalLM.from_pretrained(\n",
    "    base_model_id,\n",
    "    quantization_config=bnb_config,\n",
    "    device_map=\"auto\"\n",
    ")\n",
    "tokenizer = AutoTokenizer.from_pretrained(base_model_id)\n",
    "tokenizer.pad_token = tokenizer.eos_token\n",
    "tokenizer.padding_side = \"left\"\n",
    "\n",
    "# 2. Load the fine-tuned LoRA adapter from the Hugging Face Hub\n",
    "# The from_pretrained() method from PEFT will automatically download your adapter files\n",
    "print(f\"Loading LoRA adapter from {hub_repo_id}...\")\n",
    "finetuned_model = PeftModel.from_pretrained(base_model, hub_repo_id)\n",
    "\n",
    "# 3. Use the model for inference with the same prompt\n",
    "prompt = \"### Instruction:\\nWhat are the benefits of a plant-based diet?\\n\\n### Response:\"\n",
    "inputs = tokenizer(prompt, return_tensors=\"pt\").to(\"cuda\")\n",
    "\n",
    "print(\"Generating response from the loaded Hub model...\")\n",
    "with torch.no_grad():\n",
    "    outputs = finetuned_model.generate(\n",
    "        **inputs,\n",
    "        max_new_tokens=256,\n",
    "        do_sample=True,\n",
    "        top_p=0.9,\n",
    "        temperature=0.7,\n",
    "        pad_token_id=tokenizer.eos_token_id\n",
    "    )\n",
    "generated_text = tokenizer.decode(outputs[0], skip_special_tokens=True)\n",
    "print(\"\\n--- Generated Output from Hugging Face Hub Model ---\")\n",
    "print(generated_text)"
   ]
  }
 ],
 "metadata": {
  "accelerator": "GPU",
  "colab": {
   "gpuType": "T4",
   "provenance": []
  },
  "kernelspec": {
   "display_name": "Python 3",
   "name": "python3"
  },
  "language_info": {
   "name": "python"
  },
  "widgets": {
   "application/vnd.jupyter.widget-state+json": {
    "0d08a4e7ad3a4acd9a55a82ab4907fca": {
     "model_module": "@jupyter-widgets/base",
     "model_module_version": "1.2.0",
     "model_name": "LayoutModel",
     "state": {
      "_model_module": "@jupyter-widgets/base",
      "_model_module_version": "1.2.0",
      "_model_name": "LayoutModel",
      "_view_count": null,
      "_view_module": "@jupyter-widgets/base",
      "_view_module_version": "1.2.0",
      "_view_name": "LayoutView",
      "align_content": null,
      "align_items": null,
      "align_self": null,
      "border": null,
      "bottom": null,
      "display": null,
      "flex": null,
      "flex_flow": null,
      "grid_area": null,
      "grid_auto_columns": null,
      "grid_auto_flow": null,
      "grid_auto_rows": null,
      "grid_column": null,
      "grid_gap": null,
      "grid_row": null,
      "grid_template_areas": null,
      "grid_template_columns": null,
      "grid_template_rows": null,
      "height": null,
      "justify_content": null,
      "justify_items": null,
      "left": null,
      "margin": null,
      "max_height": null,
      "max_width": null,
      "min_height": null,
      "min_width": null,
      "object_fit": null,
      "object_position": null,
      "order": null,
      "overflow": null,
      "overflow_x": null,
      "overflow_y": null,
      "padding": null,
      "right": null,
      "top": null,
      "visibility": null,
      "width": null
     }
    },
    "131518f5ebf4402c9f21251bf7f2a77d": {
     "model_module": "@jupyter-widgets/controls",
     "model_module_version": "1.5.0",
     "model_name": "DescriptionStyleModel",
     "state": {
      "_model_module": "@jupyter-widgets/controls",
      "_model_module_version": "1.5.0",
      "_model_name": "DescriptionStyleModel",
      "_view_count": null,
      "_view_module": "@jupyter-widgets/base",
      "_view_module_version": "1.2.0",
      "_view_name": "StyleView",
      "description_width": ""
     }
    },
    "14e68cfb1c16476d87f40cbc437ba239": {
     "model_module": "@jupyter-widgets/base",
     "model_module_version": "1.2.0",
     "model_name": "LayoutModel",
     "state": {
      "_model_module": "@jupyter-widgets/base",
      "_model_module_version": "1.2.0",
      "_model_name": "LayoutModel",
      "_view_count": null,
      "_view_module": "@jupyter-widgets/base",
      "_view_module_version": "1.2.0",
      "_view_name": "LayoutView",
      "align_content": null,
      "align_items": null,
      "align_self": null,
      "border": null,
      "bottom": null,
      "display": null,
      "flex": null,
      "flex_flow": null,
      "grid_area": null,
      "grid_auto_columns": null,
      "grid_auto_flow": null,
      "grid_auto_rows": null,
      "grid_column": null,
      "grid_gap": null,
      "grid_row": null,
      "grid_template_areas": null,
      "grid_template_columns": null,
      "grid_template_rows": null,
      "height": null,
      "justify_content": null,
      "justify_items": null,
      "left": null,
      "margin": null,
      "max_height": null,
      "max_width": null,
      "min_height": null,
      "min_width": null,
      "object_fit": null,
      "object_position": null,
      "order": null,
      "overflow": null,
      "overflow_x": null,
      "overflow_y": null,
      "padding": null,
      "right": null,
      "top": null,
      "visibility": null,
      "width": null
     }
    },
    "194d6f0ba3bc457f8e26725ebe59106a": {
     "model_module": "@jupyter-widgets/controls",
     "model_module_version": "1.5.0",
     "model_name": "DescriptionStyleModel",
     "state": {
      "_model_module": "@jupyter-widgets/controls",
      "_model_module_version": "1.5.0",
      "_model_name": "DescriptionStyleModel",
      "_view_count": null,
      "_view_module": "@jupyter-widgets/base",
      "_view_module_version": "1.2.0",
      "_view_name": "StyleView",
      "description_width": ""
     }
    },
    "1b501f0b1146455e983eb290b7baa43f": {
     "model_module": "@jupyter-widgets/controls",
     "model_module_version": "1.5.0",
     "model_name": "DescriptionStyleModel",
     "state": {
      "_model_module": "@jupyter-widgets/controls",
      "_model_module_version": "1.5.0",
      "_model_name": "DescriptionStyleModel",
      "_view_count": null,
      "_view_module": "@jupyter-widgets/base",
      "_view_module_version": "1.2.0",
      "_view_name": "StyleView",
      "description_width": ""
     }
    },
    "1bbb3ec103e843a2a027bd468cc6ce9d": {
     "model_module": "@jupyter-widgets/controls",
     "model_module_version": "1.5.0",
     "model_name": "DescriptionStyleModel",
     "state": {
      "_model_module": "@jupyter-widgets/controls",
      "_model_module_version": "1.5.0",
      "_model_name": "DescriptionStyleModel",
      "_view_count": null,
      "_view_module": "@jupyter-widgets/base",
      "_view_module_version": "1.2.0",
      "_view_name": "StyleView",
      "description_width": ""
     }
    },
    "1c3f0b81d42746b98a865d2a7a40bd20": {
     "model_module": "@jupyter-widgets/controls",
     "model_module_version": "1.5.0",
     "model_name": "DescriptionStyleModel",
     "state": {
      "_model_module": "@jupyter-widgets/controls",
      "_model_module_version": "1.5.0",
      "_model_name": "DescriptionStyleModel",
      "_view_count": null,
      "_view_module": "@jupyter-widgets/base",
      "_view_module_version": "1.2.0",
      "_view_name": "StyleView",
      "description_width": ""
     }
    },
    "205765017c0a4a93a256647b4dc6421a": {
     "model_module": "@jupyter-widgets/controls",
     "model_module_version": "1.5.0",
     "model_name": "VBoxModel",
     "state": {
      "_dom_classes": [],
      "_model_module": "@jupyter-widgets/controls",
      "_model_module_version": "1.5.0",
      "_model_name": "VBoxModel",
      "_view_count": null,
      "_view_module": "@jupyter-widgets/controls",
      "_view_module_version": "1.5.0",
      "_view_name": "VBoxView",
      "box_style": "",
      "children": [],
      "layout": "IPY_MODEL_9298e6816b4e4b50a7d0771e70cd995e"
     }
    },
    "23cffc5e0da14caf9c0236a45921f233": {
     "model_module": "@jupyter-widgets/controls",
     "model_module_version": "1.5.0",
     "model_name": "LabelModel",
     "state": {
      "_dom_classes": [],
      "_model_module": "@jupyter-widgets/controls",
      "_model_module_version": "1.5.0",
      "_model_name": "LabelModel",
      "_view_count": null,
      "_view_module": "@jupyter-widgets/controls",
      "_view_module_version": "1.5.0",
      "_view_name": "LabelView",
      "description": "",
      "description_tooltip": null,
      "layout": "IPY_MODEL_d1a857a2c9ba402d923df694bc349fd4",
      "placeholder": "​",
      "style": "IPY_MODEL_e087ab0858c54e24931233044f4729e7",
      "value": "Connecting..."
     }
    },
    "2e7a986c37904cdfa0236d168a7751ea": {
     "model_module": "@jupyter-widgets/base",
     "model_module_version": "1.2.0",
     "model_name": "LayoutModel",
     "state": {
      "_model_module": "@jupyter-widgets/base",
      "_model_module_version": "1.2.0",
      "_model_name": "LayoutModel",
      "_view_count": null,
      "_view_module": "@jupyter-widgets/base",
      "_view_module_version": "1.2.0",
      "_view_name": "LayoutView",
      "align_content": null,
      "align_items": null,
      "align_self": null,
      "border": null,
      "bottom": null,
      "display": null,
      "flex": null,
      "flex_flow": null,
      "grid_area": null,
      "grid_auto_columns": null,
      "grid_auto_flow": null,
      "grid_auto_rows": null,
      "grid_column": null,
      "grid_gap": null,
      "grid_row": null,
      "grid_template_areas": null,
      "grid_template_columns": null,
      "grid_template_rows": null,
      "height": null,
      "justify_content": null,
      "justify_items": null,
      "left": null,
      "margin": null,
      "max_height": null,
      "max_width": null,
      "min_height": null,
      "min_width": null,
      "object_fit": null,
      "object_position": null,
      "order": null,
      "overflow": null,
      "overflow_x": null,
      "overflow_y": null,
      "padding": null,
      "right": null,
      "top": null,
      "visibility": null,
      "width": null
     }
    },
    "32736effc4734051aeb7d9f31f99a8ba": {
     "model_module": "@jupyter-widgets/controls",
     "model_module_version": "1.5.0",
     "model_name": "HBoxModel",
     "state": {
      "_dom_classes": [],
      "_model_module": "@jupyter-widgets/controls",
      "_model_module_version": "1.5.0",
      "_model_name": "HBoxModel",
      "_view_count": null,
      "_view_module": "@jupyter-widgets/controls",
      "_view_module_version": "1.5.0",
      "_view_name": "HBoxView",
      "box_style": "",
      "children": [
       "IPY_MODEL_966c462e7a504ea38cee8f2b4f452146",
       "IPY_MODEL_f8d0291ab7a44a7cbcac38170d535f42",
       "IPY_MODEL_cd2c9c72070e4c61876d297691b7b835"
      ],
      "layout": "IPY_MODEL_0d08a4e7ad3a4acd9a55a82ab4907fca"
     }
    },
    "3647b9a35d5c4fcfa4918bad7de4108b": {
     "model_module": "@jupyter-widgets/controls",
     "model_module_version": "1.5.0",
     "model_name": "HTMLModel",
     "state": {
      "_dom_classes": [],
      "_model_module": "@jupyter-widgets/controls",
      "_model_module_version": "1.5.0",
      "_model_name": "HTMLModel",
      "_view_count": null,
      "_view_module": "@jupyter-widgets/controls",
      "_view_module_version": "1.5.0",
      "_view_name": "HTMLView",
      "description": "",
      "description_tooltip": null,
      "layout": "IPY_MODEL_b9c973a74e6e43ce9b292f7481bf48e6",
      "placeholder": "​",
      "style": "IPY_MODEL_194d6f0ba3bc457f8e26725ebe59106a",
      "value": "Map: 100%"
     }
    },
    "3d43b307e4ef45a8b10e122dd8ca4723": {
     "model_module": "@jupyter-widgets/controls",
     "model_module_version": "1.5.0",
     "model_name": "PasswordModel",
     "state": {
      "_dom_classes": [],
      "_model_module": "@jupyter-widgets/controls",
      "_model_module_version": "1.5.0",
      "_model_name": "PasswordModel",
      "_view_count": null,
      "_view_module": "@jupyter-widgets/controls",
      "_view_module_version": "1.5.0",
      "_view_name": "PasswordView",
      "continuous_update": true,
      "description": "Token:",
      "description_tooltip": null,
      "disabled": false,
      "layout": "IPY_MODEL_7c1e6b721d674f8daf3367265a8da329",
      "placeholder": "​",
      "style": "IPY_MODEL_131518f5ebf4402c9f21251bf7f2a77d",
      "value": ""
     }
    },
    "3e45b3c963c24fdaa1117898cc623b99": {
     "model_module": "@jupyter-widgets/controls",
     "model_module_version": "1.5.0",
     "model_name": "FloatProgressModel",
     "state": {
      "_dom_classes": [],
      "_model_module": "@jupyter-widgets/controls",
      "_model_module_version": "1.5.0",
      "_model_name": "FloatProgressModel",
      "_view_count": null,
      "_view_module": "@jupyter-widgets/controls",
      "_view_module_version": "1.5.0",
      "_view_name": "ProgressView",
      "bar_style": "success",
      "description": "",
      "description_tooltip": null,
      "layout": "IPY_MODEL_3f8a87833ca847eea03c67c037811276",
      "max": 887,
      "min": 0,
      "orientation": "horizontal",
      "style": "IPY_MODEL_faadca238177412c99121b2a6af942cd",
      "value": 887
     }
    },
    "3f8a87833ca847eea03c67c037811276": {
     "model_module": "@jupyter-widgets/base",
     "model_module_version": "1.2.0",
     "model_name": "LayoutModel",
     "state": {
      "_model_module": "@jupyter-widgets/base",
      "_model_module_version": "1.2.0",
      "_model_name": "LayoutModel",
      "_view_count": null,
      "_view_module": "@jupyter-widgets/base",
      "_view_module_version": "1.2.0",
      "_view_name": "LayoutView",
      "align_content": null,
      "align_items": null,
      "align_self": null,
      "border": null,
      "bottom": null,
      "display": null,
      "flex": null,
      "flex_flow": null,
      "grid_area": null,
      "grid_auto_columns": null,
      "grid_auto_flow": null,
      "grid_auto_rows": null,
      "grid_column": null,
      "grid_gap": null,
      "grid_row": null,
      "grid_template_areas": null,
      "grid_template_columns": null,
      "grid_template_rows": null,
      "height": null,
      "justify_content": null,
      "justify_items": null,
      "left": null,
      "margin": null,
      "max_height": null,
      "max_width": null,
      "min_height": null,
      "min_width": null,
      "object_fit": null,
      "object_position": null,
      "order": null,
      "overflow": null,
      "overflow_x": null,
      "overflow_y": null,
      "padding": null,
      "right": null,
      "top": null,
      "visibility": null,
      "width": null
     }
    },
    "435fb446bfb14009be57896b36152732": {
     "model_module": "@jupyter-widgets/controls",
     "model_module_version": "1.5.0",
     "model_name": "HTMLModel",
     "state": {
      "_dom_classes": [],
      "_model_module": "@jupyter-widgets/controls",
      "_model_module_version": "1.5.0",
      "_model_name": "HTMLModel",
      "_view_count": null,
      "_view_module": "@jupyter-widgets/controls",
      "_view_module_version": "1.5.0",
      "_view_name": "HTMLView",
      "description": "",
      "description_tooltip": null,
      "layout": "IPY_MODEL_a529c66b692b472db6458011e49c09f8",
      "placeholder": "​",
      "style": "IPY_MODEL_702a8f338fb3421ea18e91ddfe99f08e",
      "value": "\n<b>Pro Tip:</b> If you don't already have one, you can create a dedicated\n'notebooks' token with 'write' access, that you can then easily reuse for all\nnotebooks. </center>"
     }
    },
    "54ae8f0ca6b1474b8bf8663da17db3e4": {
     "model_module": "@jupyter-widgets/controls",
     "model_module_version": "1.5.0",
     "model_name": "FloatProgressModel",
     "state": {
      "_dom_classes": [],
      "_model_module": "@jupyter-widgets/controls",
      "_model_module_version": "1.5.0",
      "_model_name": "FloatProgressModel",
      "_view_count": null,
      "_view_module": "@jupyter-widgets/controls",
      "_view_module_version": "1.5.0",
      "_view_name": "ProgressView",
      "bar_style": "success",
      "description": "",
      "description_tooltip": null,
      "layout": "IPY_MODEL_fbba2347865c46a1b60581ccdc63ed09",
      "max": 75,
      "min": 0,
      "orientation": "horizontal",
      "style": "IPY_MODEL_de982e2d44bd468793a7ec7c36c7c1bd",
      "value": 75
     }
    },
    "5aabe3a1476a45608bd2e14136efb0d7": {
     "model_module": "@jupyter-widgets/base",
     "model_module_version": "1.2.0",
     "model_name": "LayoutModel",
     "state": {
      "_model_module": "@jupyter-widgets/base",
      "_model_module_version": "1.2.0",
      "_model_name": "LayoutModel",
      "_view_count": null,
      "_view_module": "@jupyter-widgets/base",
      "_view_module_version": "1.2.0",
      "_view_name": "LayoutView",
      "align_content": null,
      "align_items": null,
      "align_self": null,
      "border": null,
      "bottom": null,
      "display": null,
      "flex": null,
      "flex_flow": null,
      "grid_area": null,
      "grid_auto_columns": null,
      "grid_auto_flow": null,
      "grid_auto_rows": null,
      "grid_column": null,
      "grid_gap": null,
      "grid_row": null,
      "grid_template_areas": null,
      "grid_template_columns": null,
      "grid_template_rows": null,
      "height": null,
      "justify_content": null,
      "justify_items": null,
      "left": null,
      "margin": null,
      "max_height": null,
      "max_width": null,
      "min_height": null,
      "min_width": null,
      "object_fit": null,
      "object_position": null,
      "order": null,
      "overflow": null,
      "overflow_x": null,
      "overflow_y": null,
      "padding": null,
      "right": null,
      "top": null,
      "visibility": null,
      "width": null
     }
    },
    "5ba0792de78241d99a943ee61f9eb046": {
     "model_module": "@jupyter-widgets/base",
     "model_module_version": "1.2.0",
     "model_name": "LayoutModel",
     "state": {
      "_model_module": "@jupyter-widgets/base",
      "_model_module_version": "1.2.0",
      "_model_name": "LayoutModel",
      "_view_count": null,
      "_view_module": "@jupyter-widgets/base",
      "_view_module_version": "1.2.0",
      "_view_name": "LayoutView",
      "align_content": null,
      "align_items": null,
      "align_self": null,
      "border": null,
      "bottom": null,
      "display": null,
      "flex": null,
      "flex_flow": null,
      "grid_area": null,
      "grid_auto_columns": null,
      "grid_auto_flow": null,
      "grid_auto_rows": null,
      "grid_column": null,
      "grid_gap": null,
      "grid_row": null,
      "grid_template_areas": null,
      "grid_template_columns": null,
      "grid_template_rows": null,
      "height": null,
      "justify_content": null,
      "justify_items": null,
      "left": null,
      "margin": null,
      "max_height": null,
      "max_width": null,
      "min_height": null,
      "min_width": null,
      "object_fit": null,
      "object_position": null,
      "order": null,
      "overflow": null,
      "overflow_x": null,
      "overflow_y": null,
      "padding": null,
      "right": null,
      "top": null,
      "visibility": null,
      "width": null
     }
    },
    "702a8f338fb3421ea18e91ddfe99f08e": {
     "model_module": "@jupyter-widgets/controls",
     "model_module_version": "1.5.0",
     "model_name": "DescriptionStyleModel",
     "state": {
      "_model_module": "@jupyter-widgets/controls",
      "_model_module_version": "1.5.0",
      "_model_name": "DescriptionStyleModel",
      "_view_count": null,
      "_view_module": "@jupyter-widgets/base",
      "_view_module_version": "1.2.0",
      "_view_name": "StyleView",
      "description_width": ""
     }
    },
    "75008f70d10646f9b426c97ca44a87df": {
     "model_module": "@jupyter-widgets/controls",
     "model_module_version": "1.5.0",
     "model_name": "CheckboxModel",
     "state": {
      "_dom_classes": [],
      "_model_module": "@jupyter-widgets/controls",
      "_model_module_version": "1.5.0",
      "_model_name": "CheckboxModel",
      "_view_count": null,
      "_view_module": "@jupyter-widgets/controls",
      "_view_module_version": "1.5.0",
      "_view_name": "CheckboxView",
      "description": "Add token as git credential?",
      "description_tooltip": null,
      "disabled": false,
      "indent": true,
      "layout": "IPY_MODEL_dcfba748226845ca83ee200c3432c5c2",
      "style": "IPY_MODEL_f8d1571dbabb47659201909de7a4d9fe",
      "value": true
     }
    },
    "7c1e6b721d674f8daf3367265a8da329": {
     "model_module": "@jupyter-widgets/base",
     "model_module_version": "1.2.0",
     "model_name": "LayoutModel",
     "state": {
      "_model_module": "@jupyter-widgets/base",
      "_model_module_version": "1.2.0",
      "_model_name": "LayoutModel",
      "_view_count": null,
      "_view_module": "@jupyter-widgets/base",
      "_view_module_version": "1.2.0",
      "_view_name": "LayoutView",
      "align_content": null,
      "align_items": null,
      "align_self": null,
      "border": null,
      "bottom": null,
      "display": null,
      "flex": null,
      "flex_flow": null,
      "grid_area": null,
      "grid_auto_columns": null,
      "grid_auto_flow": null,
      "grid_auto_rows": null,
      "grid_column": null,
      "grid_gap": null,
      "grid_row": null,
      "grid_template_areas": null,
      "grid_template_columns": null,
      "grid_template_rows": null,
      "height": null,
      "justify_content": null,
      "justify_items": null,
      "left": null,
      "margin": null,
      "max_height": null,
      "max_width": null,
      "min_height": null,
      "min_width": null,
      "object_fit": null,
      "object_position": null,
      "order": null,
      "overflow": null,
      "overflow_x": null,
      "overflow_y": null,
      "padding": null,
      "right": null,
      "top": null,
      "visibility": null,
      "width": null
     }
    },
    "7edda695011847368a97d583654c226e": {
     "model_module": "@jupyter-widgets/controls",
     "model_module_version": "1.5.0",
     "model_name": "ProgressStyleModel",
     "state": {
      "_model_module": "@jupyter-widgets/controls",
      "_model_module_version": "1.5.0",
      "_model_name": "ProgressStyleModel",
      "_view_count": null,
      "_view_module": "@jupyter-widgets/base",
      "_view_module_version": "1.2.0",
      "_view_name": "StyleView",
      "bar_color": null,
      "description_width": ""
     }
    },
    "8c435221151b4be8bf3f8f0aa5dcdfab": {
     "model_module": "@jupyter-widgets/controls",
     "model_module_version": "1.5.0",
     "model_name": "DescriptionStyleModel",
     "state": {
      "_model_module": "@jupyter-widgets/controls",
      "_model_module_version": "1.5.0",
      "_model_name": "DescriptionStyleModel",
      "_view_count": null,
      "_view_module": "@jupyter-widgets/base",
      "_view_module_version": "1.2.0",
      "_view_name": "StyleView",
      "description_width": ""
     }
    },
    "8f9debf2c35a4e1cb41c11b8a91d695b": {
     "model_module": "@jupyter-widgets/base",
     "model_module_version": "1.2.0",
     "model_name": "LayoutModel",
     "state": {
      "_model_module": "@jupyter-widgets/base",
      "_model_module_version": "1.2.0",
      "_model_name": "LayoutModel",
      "_view_count": null,
      "_view_module": "@jupyter-widgets/base",
      "_view_module_version": "1.2.0",
      "_view_name": "LayoutView",
      "align_content": null,
      "align_items": null,
      "align_self": null,
      "border": null,
      "bottom": null,
      "display": null,
      "flex": null,
      "flex_flow": null,
      "grid_area": null,
      "grid_auto_columns": null,
      "grid_auto_flow": null,
      "grid_auto_rows": null,
      "grid_column": null,
      "grid_gap": null,
      "grid_row": null,
      "grid_template_areas": null,
      "grid_template_columns": null,
      "grid_template_rows": null,
      "height": null,
      "justify_content": null,
      "justify_items": null,
      "left": null,
      "margin": null,
      "max_height": null,
      "max_width": null,
      "min_height": null,
      "min_width": null,
      "object_fit": null,
      "object_position": null,
      "order": null,
      "overflow": null,
      "overflow_x": null,
      "overflow_y": null,
      "padding": null,
      "right": null,
      "top": null,
      "visibility": null,
      "width": null
     }
    },
    "9298e6816b4e4b50a7d0771e70cd995e": {
     "model_module": "@jupyter-widgets/base",
     "model_module_version": "1.2.0",
     "model_name": "LayoutModel",
     "state": {
      "_model_module": "@jupyter-widgets/base",
      "_model_module_version": "1.2.0",
      "_model_name": "LayoutModel",
      "_view_count": null,
      "_view_module": "@jupyter-widgets/base",
      "_view_module_version": "1.2.0",
      "_view_name": "LayoutView",
      "align_content": null,
      "align_items": "center",
      "align_self": null,
      "border": null,
      "bottom": null,
      "display": "flex",
      "flex": null,
      "flex_flow": "column",
      "grid_area": null,
      "grid_auto_columns": null,
      "grid_auto_flow": null,
      "grid_auto_rows": null,
      "grid_column": null,
      "grid_gap": null,
      "grid_row": null,
      "grid_template_areas": null,
      "grid_template_columns": null,
      "grid_template_rows": null,
      "height": null,
      "justify_content": null,
      "justify_items": null,
      "left": null,
      "margin": null,
      "max_height": null,
      "max_width": null,
      "min_height": null,
      "min_width": null,
      "object_fit": null,
      "object_position": null,
      "order": null,
      "overflow": null,
      "overflow_x": null,
      "overflow_y": null,
      "padding": null,
      "right": null,
      "top": null,
      "visibility": null,
      "width": "50%"
     }
    },
    "966c462e7a504ea38cee8f2b4f452146": {
     "model_module": "@jupyter-widgets/controls",
     "model_module_version": "1.5.0",
     "model_name": "HTMLModel",
     "state": {
      "_dom_classes": [],
      "_model_module": "@jupyter-widgets/controls",
      "_model_module_version": "1.5.0",
      "_model_name": "HTMLModel",
      "_view_count": null,
      "_view_module": "@jupyter-widgets/controls",
      "_view_module_version": "1.5.0",
      "_view_name": "HTMLView",
      "description": "",
      "description_tooltip": null,
      "layout": "IPY_MODEL_2e7a986c37904cdfa0236d168a7751ea",
      "placeholder": "​",
      "style": "IPY_MODEL_1bbb3ec103e843a2a027bd468cc6ce9d",
      "value": "adapter_model.safetensors: 100%"
     }
    },
    "a529c66b692b472db6458011e49c09f8": {
     "model_module": "@jupyter-widgets/base",
     "model_module_version": "1.2.0",
     "model_name": "LayoutModel",
     "state": {
      "_model_module": "@jupyter-widgets/base",
      "_model_module_version": "1.2.0",
      "_model_name": "LayoutModel",
      "_view_count": null,
      "_view_module": "@jupyter-widgets/base",
      "_view_module_version": "1.2.0",
      "_view_name": "LayoutView",
      "align_content": null,
      "align_items": null,
      "align_self": null,
      "border": null,
      "bottom": null,
      "display": null,
      "flex": null,
      "flex_flow": null,
      "grid_area": null,
      "grid_auto_columns": null,
      "grid_auto_flow": null,
      "grid_auto_rows": null,
      "grid_column": null,
      "grid_gap": null,
      "grid_row": null,
      "grid_template_areas": null,
      "grid_template_columns": null,
      "grid_template_rows": null,
      "height": null,
      "justify_content": null,
      "justify_items": null,
      "left": null,
      "margin": null,
      "max_height": null,
      "max_width": null,
      "min_height": null,
      "min_width": null,
      "object_fit": null,
      "object_position": null,
      "order": null,
      "overflow": null,
      "overflow_x": null,
      "overflow_y": null,
      "padding": null,
      "right": null,
      "top": null,
      "visibility": null,
      "width": null
     }
    },
    "a61385d1e0b44c4e8f9345a8d0176960": {
     "model_module": "@jupyter-widgets/controls",
     "model_module_version": "1.5.0",
     "model_name": "HTMLModel",
     "state": {
      "_dom_classes": [],
      "_model_module": "@jupyter-widgets/controls",
      "_model_module_version": "1.5.0",
      "_model_name": "HTMLModel",
      "_view_count": null,
      "_view_module": "@jupyter-widgets/controls",
      "_view_module_version": "1.5.0",
      "_view_name": "HTMLView",
      "description": "",
      "description_tooltip": null,
      "layout": "IPY_MODEL_d48eb22a3b1b4d43b2f5a35d79106b13",
      "placeholder": "​",
      "style": "IPY_MODEL_c495d4113d494e2a8fd95f896b316671",
      "value": " 887/887 [00:00&lt;00:00, 90.4kB/s]"
     }
    },
    "addd0f79b90248179c3e56828d2add6a": {
     "model_module": "@jupyter-widgets/controls",
     "model_module_version": "1.5.0",
     "model_name": "ButtonModel",
     "state": {
      "_dom_classes": [],
      "_model_module": "@jupyter-widgets/controls",
      "_model_module_version": "1.5.0",
      "_model_name": "ButtonModel",
      "_view_count": null,
      "_view_module": "@jupyter-widgets/controls",
      "_view_module_version": "1.5.0",
      "_view_name": "ButtonView",
      "button_style": "",
      "description": "Login",
      "disabled": false,
      "icon": "",
      "layout": "IPY_MODEL_14e68cfb1c16476d87f40cbc437ba239",
      "style": "IPY_MODEL_e7958dffebe44f83b4184b988f6349f6",
      "tooltip": ""
     }
    },
    "afe5d7eabc534c028c96c51adfa94d7a": {
     "model_module": "@jupyter-widgets/base",
     "model_module_version": "1.2.0",
     "model_name": "LayoutModel",
     "state": {
      "_model_module": "@jupyter-widgets/base",
      "_model_module_version": "1.2.0",
      "_model_name": "LayoutModel",
      "_view_count": null,
      "_view_module": "@jupyter-widgets/base",
      "_view_module_version": "1.2.0",
      "_view_name": "LayoutView",
      "align_content": null,
      "align_items": null,
      "align_self": null,
      "border": null,
      "bottom": null,
      "display": null,
      "flex": null,
      "flex_flow": null,
      "grid_area": null,
      "grid_auto_columns": null,
      "grid_auto_flow": null,
      "grid_auto_rows": null,
      "grid_column": null,
      "grid_gap": null,
      "grid_row": null,
      "grid_template_areas": null,
      "grid_template_columns": null,
      "grid_template_rows": null,
      "height": null,
      "justify_content": null,
      "justify_items": null,
      "left": null,
      "margin": null,
      "max_height": null,
      "max_width": null,
      "min_height": null,
      "min_width": null,
      "object_fit": null,
      "object_position": null,
      "order": null,
      "overflow": null,
      "overflow_x": null,
      "overflow_y": null,
      "padding": null,
      "right": null,
      "top": null,
      "visibility": null,
      "width": null
     }
    },
    "b3f3a6c5ac544bd7a34919c915a5949a": {
     "model_module": "@jupyter-widgets/base",
     "model_module_version": "1.2.0",
     "model_name": "LayoutModel",
     "state": {
      "_model_module": "@jupyter-widgets/base",
      "_model_module_version": "1.2.0",
      "_model_name": "LayoutModel",
      "_view_count": null,
      "_view_module": "@jupyter-widgets/base",
      "_view_module_version": "1.2.0",
      "_view_name": "LayoutView",
      "align_content": null,
      "align_items": null,
      "align_self": null,
      "border": null,
      "bottom": null,
      "display": null,
      "flex": null,
      "flex_flow": null,
      "grid_area": null,
      "grid_auto_columns": null,
      "grid_auto_flow": null,
      "grid_auto_rows": null,
      "grid_column": null,
      "grid_gap": null,
      "grid_row": null,
      "grid_template_areas": null,
      "grid_template_columns": null,
      "grid_template_rows": null,
      "height": null,
      "justify_content": null,
      "justify_items": null,
      "left": null,
      "margin": null,
      "max_height": null,
      "max_width": null,
      "min_height": null,
      "min_width": null,
      "object_fit": null,
      "object_position": null,
      "order": null,
      "overflow": null,
      "overflow_x": null,
      "overflow_y": null,
      "padding": null,
      "right": null,
      "top": null,
      "visibility": null,
      "width": null
     }
    },
    "b9a0aa47e7524dfdad163a4ea6e8014a": {
     "model_module": "@jupyter-widgets/controls",
     "model_module_version": "1.5.0",
     "model_name": "HBoxModel",
     "state": {
      "_dom_classes": [],
      "_model_module": "@jupyter-widgets/controls",
      "_model_module_version": "1.5.0",
      "_model_name": "HBoxModel",
      "_view_count": null,
      "_view_module": "@jupyter-widgets/controls",
      "_view_module_version": "1.5.0",
      "_view_name": "HBoxView",
      "box_style": "",
      "children": [
       "IPY_MODEL_cbec95b8c6104c45bac50cdc95e59f8d",
       "IPY_MODEL_3e45b3c963c24fdaa1117898cc623b99",
       "IPY_MODEL_a61385d1e0b44c4e8f9345a8d0176960"
      ],
      "layout": "IPY_MODEL_afe5d7eabc534c028c96c51adfa94d7a"
     }
    },
    "b9c973a74e6e43ce9b292f7481bf48e6": {
     "model_module": "@jupyter-widgets/base",
     "model_module_version": "1.2.0",
     "model_name": "LayoutModel",
     "state": {
      "_model_module": "@jupyter-widgets/base",
      "_model_module_version": "1.2.0",
      "_model_name": "LayoutModel",
      "_view_count": null,
      "_view_module": "@jupyter-widgets/base",
      "_view_module_version": "1.2.0",
      "_view_name": "LayoutView",
      "align_content": null,
      "align_items": null,
      "align_self": null,
      "border": null,
      "bottom": null,
      "display": null,
      "flex": null,
      "flex_flow": null,
      "grid_area": null,
      "grid_auto_columns": null,
      "grid_auto_flow": null,
      "grid_auto_rows": null,
      "grid_column": null,
      "grid_gap": null,
      "grid_row": null,
      "grid_template_areas": null,
      "grid_template_columns": null,
      "grid_template_rows": null,
      "height": null,
      "justify_content": null,
      "justify_items": null,
      "left": null,
      "margin": null,
      "max_height": null,
      "max_width": null,
      "min_height": null,
      "min_width": null,
      "object_fit": null,
      "object_position": null,
      "order": null,
      "overflow": null,
      "overflow_x": null,
      "overflow_y": null,
      "padding": null,
      "right": null,
      "top": null,
      "visibility": null,
      "width": null
     }
    },
    "c2d92918160d42c28bc25309e32d87e1": {
     "model_module": "@jupyter-widgets/controls",
     "model_module_version": "1.5.0",
     "model_name": "HBoxModel",
     "state": {
      "_dom_classes": [],
      "_model_module": "@jupyter-widgets/controls",
      "_model_module_version": "1.5.0",
      "_model_name": "HBoxModel",
      "_view_count": null,
      "_view_module": "@jupyter-widgets/controls",
      "_view_module_version": "1.5.0",
      "_view_name": "HBoxView",
      "box_style": "",
      "children": [
       "IPY_MODEL_3647b9a35d5c4fcfa4918bad7de4108b",
       "IPY_MODEL_54ae8f0ca6b1474b8bf8663da17db3e4",
       "IPY_MODEL_cb6833d6ffd9406b8319f4bddab9ba39"
      ],
      "layout": "IPY_MODEL_b3f3a6c5ac544bd7a34919c915a5949a"
     }
    },
    "c495d4113d494e2a8fd95f896b316671": {
     "model_module": "@jupyter-widgets/controls",
     "model_module_version": "1.5.0",
     "model_name": "DescriptionStyleModel",
     "state": {
      "_model_module": "@jupyter-widgets/controls",
      "_model_module_version": "1.5.0",
      "_model_name": "DescriptionStyleModel",
      "_view_count": null,
      "_view_module": "@jupyter-widgets/base",
      "_view_module_version": "1.2.0",
      "_view_name": "StyleView",
      "description_width": ""
     }
    },
    "c56a5a4a7d9f4837844ef6422c2cc4ab": {
     "model_module": "@jupyter-widgets/controls",
     "model_module_version": "1.5.0",
     "model_name": "HTMLModel",
     "state": {
      "_dom_classes": [],
      "_model_module": "@jupyter-widgets/controls",
      "_model_module_version": "1.5.0",
      "_model_name": "HTMLModel",
      "_view_count": null,
      "_view_module": "@jupyter-widgets/controls",
      "_view_module_version": "1.5.0",
      "_view_name": "HTMLView",
      "description": "",
      "description_tooltip": null,
      "layout": "IPY_MODEL_5aabe3a1476a45608bd2e14136efb0d7",
      "placeholder": "​",
      "style": "IPY_MODEL_1c3f0b81d42746b98a865d2a7a40bd20",
      "value": "<center> <img\nsrc=https://huggingface.co/front/assets/huggingface_logo-noborder.svg\nalt='Hugging Face'> <br> Copy a token from <a\nhref=\"https://huggingface.co/settings/tokens\" target=\"_blank\">your Hugging Face\ntokens page</a> and paste it below. <br> Immediately click login after copying\nyour token or it might be stored in plain text in this notebook file. </center>"
     }
    },
    "c96f0f70360941dfaeea12c8e9594e8a": {
     "model_module": "@jupyter-widgets/controls",
     "model_module_version": "1.5.0",
     "model_name": "DescriptionStyleModel",
     "state": {
      "_model_module": "@jupyter-widgets/controls",
      "_model_module_version": "1.5.0",
      "_model_name": "DescriptionStyleModel",
      "_view_count": null,
      "_view_module": "@jupyter-widgets/base",
      "_view_module_version": "1.2.0",
      "_view_name": "StyleView",
      "description_width": ""
     }
    },
    "cb6833d6ffd9406b8319f4bddab9ba39": {
     "model_module": "@jupyter-widgets/controls",
     "model_module_version": "1.5.0",
     "model_name": "HTMLModel",
     "state": {
      "_dom_classes": [],
      "_model_module": "@jupyter-widgets/controls",
      "_model_module_version": "1.5.0",
      "_model_name": "HTMLModel",
      "_view_count": null,
      "_view_module": "@jupyter-widgets/controls",
      "_view_module_version": "1.5.0",
      "_view_name": "HTMLView",
      "description": "",
      "description_tooltip": null,
      "layout": "IPY_MODEL_f7bdce9e027d4e278d2058a60ff7ce1d",
      "placeholder": "​",
      "style": "IPY_MODEL_c96f0f70360941dfaeea12c8e9594e8a",
      "value": " 75/75 [00:00&lt;00:00, 317.03 examples/s]"
     }
    },
    "cbec95b8c6104c45bac50cdc95e59f8d": {
     "model_module": "@jupyter-widgets/controls",
     "model_module_version": "1.5.0",
     "model_name": "HTMLModel",
     "state": {
      "_dom_classes": [],
      "_model_module": "@jupyter-widgets/controls",
      "_model_module_version": "1.5.0",
      "_model_name": "HTMLModel",
      "_view_count": null,
      "_view_module": "@jupyter-widgets/controls",
      "_view_module_version": "1.5.0",
      "_view_name": "HTMLView",
      "description": "",
      "description_tooltip": null,
      "layout": "IPY_MODEL_d1199bda946146768e6abc42a5803f6f",
      "placeholder": "​",
      "style": "IPY_MODEL_8c435221151b4be8bf3f8f0aa5dcdfab",
      "value": "adapter_config.json: 100%"
     }
    },
    "cd2c9c72070e4c61876d297691b7b835": {
     "model_module": "@jupyter-widgets/controls",
     "model_module_version": "1.5.0",
     "model_name": "HTMLModel",
     "state": {
      "_dom_classes": [],
      "_model_module": "@jupyter-widgets/controls",
      "_model_module_version": "1.5.0",
      "_model_name": "HTMLModel",
      "_view_count": null,
      "_view_module": "@jupyter-widgets/controls",
      "_view_module_version": "1.5.0",
      "_view_name": "HTMLView",
      "description": "",
      "description_tooltip": null,
      "layout": "IPY_MODEL_8f9debf2c35a4e1cb41c11b8a91d695b",
      "placeholder": "​",
      "style": "IPY_MODEL_1b501f0b1146455e983eb290b7baa43f",
      "value": " 17.5M/17.5M [00:00&lt;00:00, 52.2MB/s]"
     }
    },
    "d1199bda946146768e6abc42a5803f6f": {
     "model_module": "@jupyter-widgets/base",
     "model_module_version": "1.2.0",
     "model_name": "LayoutModel",
     "state": {
      "_model_module": "@jupyter-widgets/base",
      "_model_module_version": "1.2.0",
      "_model_name": "LayoutModel",
      "_view_count": null,
      "_view_module": "@jupyter-widgets/base",
      "_view_module_version": "1.2.0",
      "_view_name": "LayoutView",
      "align_content": null,
      "align_items": null,
      "align_self": null,
      "border": null,
      "bottom": null,
      "display": null,
      "flex": null,
      "flex_flow": null,
      "grid_area": null,
      "grid_auto_columns": null,
      "grid_auto_flow": null,
      "grid_auto_rows": null,
      "grid_column": null,
      "grid_gap": null,
      "grid_row": null,
      "grid_template_areas": null,
      "grid_template_columns": null,
      "grid_template_rows": null,
      "height": null,
      "justify_content": null,
      "justify_items": null,
      "left": null,
      "margin": null,
      "max_height": null,
      "max_width": null,
      "min_height": null,
      "min_width": null,
      "object_fit": null,
      "object_position": null,
      "order": null,
      "overflow": null,
      "overflow_x": null,
      "overflow_y": null,
      "padding": null,
      "right": null,
      "top": null,
      "visibility": null,
      "width": null
     }
    },
    "d1a857a2c9ba402d923df694bc349fd4": {
     "model_module": "@jupyter-widgets/base",
     "model_module_version": "1.2.0",
     "model_name": "LayoutModel",
     "state": {
      "_model_module": "@jupyter-widgets/base",
      "_model_module_version": "1.2.0",
      "_model_name": "LayoutModel",
      "_view_count": null,
      "_view_module": "@jupyter-widgets/base",
      "_view_module_version": "1.2.0",
      "_view_name": "LayoutView",
      "align_content": null,
      "align_items": null,
      "align_self": null,
      "border": null,
      "bottom": null,
      "display": null,
      "flex": null,
      "flex_flow": null,
      "grid_area": null,
      "grid_auto_columns": null,
      "grid_auto_flow": null,
      "grid_auto_rows": null,
      "grid_column": null,
      "grid_gap": null,
      "grid_row": null,
      "grid_template_areas": null,
      "grid_template_columns": null,
      "grid_template_rows": null,
      "height": null,
      "justify_content": null,
      "justify_items": null,
      "left": null,
      "margin": null,
      "max_height": null,
      "max_width": null,
      "min_height": null,
      "min_width": null,
      "object_fit": null,
      "object_position": null,
      "order": null,
      "overflow": null,
      "overflow_x": null,
      "overflow_y": null,
      "padding": null,
      "right": null,
      "top": null,
      "visibility": null,
      "width": null
     }
    },
    "d48eb22a3b1b4d43b2f5a35d79106b13": {
     "model_module": "@jupyter-widgets/base",
     "model_module_version": "1.2.0",
     "model_name": "LayoutModel",
     "state": {
      "_model_module": "@jupyter-widgets/base",
      "_model_module_version": "1.2.0",
      "_model_name": "LayoutModel",
      "_view_count": null,
      "_view_module": "@jupyter-widgets/base",
      "_view_module_version": "1.2.0",
      "_view_name": "LayoutView",
      "align_content": null,
      "align_items": null,
      "align_self": null,
      "border": null,
      "bottom": null,
      "display": null,
      "flex": null,
      "flex_flow": null,
      "grid_area": null,
      "grid_auto_columns": null,
      "grid_auto_flow": null,
      "grid_auto_rows": null,
      "grid_column": null,
      "grid_gap": null,
      "grid_row": null,
      "grid_template_areas": null,
      "grid_template_columns": null,
      "grid_template_rows": null,
      "height": null,
      "justify_content": null,
      "justify_items": null,
      "left": null,
      "margin": null,
      "max_height": null,
      "max_width": null,
      "min_height": null,
      "min_width": null,
      "object_fit": null,
      "object_position": null,
      "order": null,
      "overflow": null,
      "overflow_x": null,
      "overflow_y": null,
      "padding": null,
      "right": null,
      "top": null,
      "visibility": null,
      "width": null
     }
    },
    "dcfba748226845ca83ee200c3432c5c2": {
     "model_module": "@jupyter-widgets/base",
     "model_module_version": "1.2.0",
     "model_name": "LayoutModel",
     "state": {
      "_model_module": "@jupyter-widgets/base",
      "_model_module_version": "1.2.0",
      "_model_name": "LayoutModel",
      "_view_count": null,
      "_view_module": "@jupyter-widgets/base",
      "_view_module_version": "1.2.0",
      "_view_name": "LayoutView",
      "align_content": null,
      "align_items": null,
      "align_self": null,
      "border": null,
      "bottom": null,
      "display": null,
      "flex": null,
      "flex_flow": null,
      "grid_area": null,
      "grid_auto_columns": null,
      "grid_auto_flow": null,
      "grid_auto_rows": null,
      "grid_column": null,
      "grid_gap": null,
      "grid_row": null,
      "grid_template_areas": null,
      "grid_template_columns": null,
      "grid_template_rows": null,
      "height": null,
      "justify_content": null,
      "justify_items": null,
      "left": null,
      "margin": null,
      "max_height": null,
      "max_width": null,
      "min_height": null,
      "min_width": null,
      "object_fit": null,
      "object_position": null,
      "order": null,
      "overflow": null,
      "overflow_x": null,
      "overflow_y": null,
      "padding": null,
      "right": null,
      "top": null,
      "visibility": null,
      "width": null
     }
    },
    "de982e2d44bd468793a7ec7c36c7c1bd": {
     "model_module": "@jupyter-widgets/controls",
     "model_module_version": "1.5.0",
     "model_name": "ProgressStyleModel",
     "state": {
      "_model_module": "@jupyter-widgets/controls",
      "_model_module_version": "1.5.0",
      "_model_name": "ProgressStyleModel",
      "_view_count": null,
      "_view_module": "@jupyter-widgets/base",
      "_view_module_version": "1.2.0",
      "_view_name": "StyleView",
      "bar_color": null,
      "description_width": ""
     }
    },
    "e087ab0858c54e24931233044f4729e7": {
     "model_module": "@jupyter-widgets/controls",
     "model_module_version": "1.5.0",
     "model_name": "DescriptionStyleModel",
     "state": {
      "_model_module": "@jupyter-widgets/controls",
      "_model_module_version": "1.5.0",
      "_model_name": "DescriptionStyleModel",
      "_view_count": null,
      "_view_module": "@jupyter-widgets/base",
      "_view_module_version": "1.2.0",
      "_view_name": "StyleView",
      "description_width": ""
     }
    },
    "e7958dffebe44f83b4184b988f6349f6": {
     "model_module": "@jupyter-widgets/controls",
     "model_module_version": "1.5.0",
     "model_name": "ButtonStyleModel",
     "state": {
      "_model_module": "@jupyter-widgets/controls",
      "_model_module_version": "1.5.0",
      "_model_name": "ButtonStyleModel",
      "_view_count": null,
      "_view_module": "@jupyter-widgets/base",
      "_view_module_version": "1.2.0",
      "_view_name": "StyleView",
      "button_color": null,
      "font_weight": ""
     }
    },
    "f7bdce9e027d4e278d2058a60ff7ce1d": {
     "model_module": "@jupyter-widgets/base",
     "model_module_version": "1.2.0",
     "model_name": "LayoutModel",
     "state": {
      "_model_module": "@jupyter-widgets/base",
      "_model_module_version": "1.2.0",
      "_model_name": "LayoutModel",
      "_view_count": null,
      "_view_module": "@jupyter-widgets/base",
      "_view_module_version": "1.2.0",
      "_view_name": "LayoutView",
      "align_content": null,
      "align_items": null,
      "align_self": null,
      "border": null,
      "bottom": null,
      "display": null,
      "flex": null,
      "flex_flow": null,
      "grid_area": null,
      "grid_auto_columns": null,
      "grid_auto_flow": null,
      "grid_auto_rows": null,
      "grid_column": null,
      "grid_gap": null,
      "grid_row": null,
      "grid_template_areas": null,
      "grid_template_columns": null,
      "grid_template_rows": null,
      "height": null,
      "justify_content": null,
      "justify_items": null,
      "left": null,
      "margin": null,
      "max_height": null,
      "max_width": null,
      "min_height": null,
      "min_width": null,
      "object_fit": null,
      "object_position": null,
      "order": null,
      "overflow": null,
      "overflow_x": null,
      "overflow_y": null,
      "padding": null,
      "right": null,
      "top": null,
      "visibility": null,
      "width": null
     }
    },
    "f8d0291ab7a44a7cbcac38170d535f42": {
     "model_module": "@jupyter-widgets/controls",
     "model_module_version": "1.5.0",
     "model_name": "FloatProgressModel",
     "state": {
      "_dom_classes": [],
      "_model_module": "@jupyter-widgets/controls",
      "_model_module_version": "1.5.0",
      "_model_name": "FloatProgressModel",
      "_view_count": null,
      "_view_module": "@jupyter-widgets/controls",
      "_view_module_version": "1.5.0",
      "_view_name": "ProgressView",
      "bar_style": "success",
      "description": "",
      "description_tooltip": null,
      "layout": "IPY_MODEL_5ba0792de78241d99a943ee61f9eb046",
      "max": 17462432,
      "min": 0,
      "orientation": "horizontal",
      "style": "IPY_MODEL_7edda695011847368a97d583654c226e",
      "value": 17462432
     }
    },
    "f8d1571dbabb47659201909de7a4d9fe": {
     "model_module": "@jupyter-widgets/controls",
     "model_module_version": "1.5.0",
     "model_name": "DescriptionStyleModel",
     "state": {
      "_model_module": "@jupyter-widgets/controls",
      "_model_module_version": "1.5.0",
      "_model_name": "DescriptionStyleModel",
      "_view_count": null,
      "_view_module": "@jupyter-widgets/base",
      "_view_module_version": "1.2.0",
      "_view_name": "StyleView",
      "description_width": ""
     }
    },
    "faadca238177412c99121b2a6af942cd": {
     "model_module": "@jupyter-widgets/controls",
     "model_module_version": "1.5.0",
     "model_name": "ProgressStyleModel",
     "state": {
      "_model_module": "@jupyter-widgets/controls",
      "_model_module_version": "1.5.0",
      "_model_name": "ProgressStyleModel",
      "_view_count": null,
      "_view_module": "@jupyter-widgets/base",
      "_view_module_version": "1.2.0",
      "_view_name": "StyleView",
      "bar_color": null,
      "description_width": ""
     }
    },
    "fbba2347865c46a1b60581ccdc63ed09": {
     "model_module": "@jupyter-widgets/base",
     "model_module_version": "1.2.0",
     "model_name": "LayoutModel",
     "state": {
      "_model_module": "@jupyter-widgets/base",
      "_model_module_version": "1.2.0",
      "_model_name": "LayoutModel",
      "_view_count": null,
      "_view_module": "@jupyter-widgets/base",
      "_view_module_version": "1.2.0",
      "_view_name": "LayoutView",
      "align_content": null,
      "align_items": null,
      "align_self": null,
      "border": null,
      "bottom": null,
      "display": null,
      "flex": null,
      "flex_flow": null,
      "grid_area": null,
      "grid_auto_columns": null,
      "grid_auto_flow": null,
      "grid_auto_rows": null,
      "grid_column": null,
      "grid_gap": null,
      "grid_row": null,
      "grid_template_areas": null,
      "grid_template_columns": null,
      "grid_template_rows": null,
      "height": null,
      "justify_content": null,
      "justify_items": null,
      "left": null,
      "margin": null,
      "max_height": null,
      "max_width": null,
      "min_height": null,
      "min_width": null,
      "object_fit": null,
      "object_position": null,
      "order": null,
      "overflow": null,
      "overflow_x": null,
      "overflow_y": null,
      "padding": null,
      "right": null,
      "top": null,
      "visibility": null,
      "width": null
     }
    }
   }
  }
 },
 "nbformat": 4,
 "nbformat_minor": 0
}
